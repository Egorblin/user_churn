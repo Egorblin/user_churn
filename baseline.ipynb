{
  "nbformat": 4,
  "nbformat_minor": 0,
  "metadata": {
    "colab": {
      "name": "baseline.ipynb",
      "provenance": [],
      "collapsed_sections": [
        "Tu_JvqcBEN8Y",
        "BlTeVy7fEEZR",
        "mkxjbGkVEEZc"
      ],
      "include_colab_link": true
    },
    "kernelspec": {
      "display_name": "Python 3",
      "language": "python",
      "name": "python3"
    },
    "language_info": {
      "codemirror_mode": {
        "name": "ipython",
        "version": 3
      },
      "file_extension": ".py",
      "mimetype": "text/x-python",
      "name": "python",
      "nbconvert_exporter": "python",
      "pygments_lexer": "ipython3",
      "version": "3.9.0"
    }
  },
  "cells": [
    {
      "cell_type": "markdown",
      "metadata": {
        "id": "view-in-github",
        "colab_type": "text"
      },
      "source": [
        "<a href=\"https://colab.research.google.com/github/Egorblin/user_churn/blob/main/baseline.ipynb\" target=\"_parent\"><img src=\"https://colab.research.google.com/assets/colab-badge.svg\" alt=\"Open In Colab\"/></a>"
      ]
    },
    {
      "cell_type": "markdown",
      "metadata": {
        "id": "TK7oX5qdEEYr"
      },
      "source": [
        "<p style=\"align: center;\"><img align=center src=\"https://s8.hostingkartinok.com/uploads/images/2018/08/308b49fcfbc619d629fe4604bceb67ac.jpg\" width=500 height=450/></p>\n",
        "\n",
        "<h3 style=\"text-align: center;\"><b>Школа глубокого обучения ФПМИ МФТИ</b></h3>\n",
        "\n",
        "<h3 style=\"text-align: center;\"><b>Домашнее задание. Продвинутый поток. Весна 2021</b></h3>\n",
        "\n",
        "Это домашнее задание будет посвящено полноценному решению задачи машинного обучения."
      ]
    },
    {
      "cell_type": "markdown",
      "metadata": {
        "id": "zlB-owfaEEYs"
      },
      "source": [
        "Есть две части этого домашнего задания: \n",
        "* Сделать полноценный отчет о вашей работе: как вы обработали данные, какие модели попробовали и какие результаты получились (максимум 10 баллов). За каждую выполненную часть будет начислено определенное количество баллов.\n",
        "* Лучшее решение отправить в соревнование на [kaggle](https://www.kaggle.com/c/advanced-dls-spring-2021/) (максимум 5 баллов). За прохождение определенного порогов будут начисляться баллы.\n",
        "\n",
        "\n",
        "**Обе части будут проверяться в формате peer-review. Т.е. вашу посылку на степик будут проверять несколько других студентов и аггрегация их оценок будет выставлена. В то же время вам тоже нужно будет проверить несколько других учеников.**\n",
        "\n",
        "**Пожалуйста, делайте свою работу чистой и понятной, чтобы облегчить проверку. Если у вас будут проблемы с решением или хочется совета, то пишите в наш чат в телеграме или в лс @runfme. Если вы захотите проаппелировать оценку, то пипшите в лс @runfme.**\n",
        "\n",
        "**Во всех пунктах указания это минимальный набор вещей, которые стоит сделать. Если вы можете сделать какой-то шаг лучше или добавить что-то свое - дерзайте!**"
      ]
    },
    {
      "cell_type": "markdown",
      "metadata": {
        "id": "Tu_JvqcBEN8Y"
      },
      "source": [
        "# Как проверять?\n",
        "\n",
        "Ставьте полный балл, если выполнены все рекомендации или сделано что-то более интересное и сложное. За каждый отсустствующий пункт из рекомендация снижайте 1 балл."
      ]
    },
    {
      "cell_type": "markdown",
      "metadata": {
        "id": "ninJ63mJEEYt"
      },
      "source": [
        "# Метрика\n",
        "\n",
        "Перед решением любой задачи важно понимать, как будет оцениваться ваше решение. В данном случае мы используем стандартную для задачи классификации метрику ROC-AUC. Ее можно вычислить используя только предсказанные вероятности и истинные классы без конкретного порога классификации + она раотает даже если классы в данных сильно несбалансированны (примеров одного класса в десятки раз больше примеров длугого). Именно поэтому она очень удобна для соревнований.\n",
        "\n",
        "Посчитать ее легко:\n"
      ]
    },
    {
      "cell_type": "code",
      "metadata": {
        "id": "SQIrka7yEEYu",
        "colab": {
          "base_uri": "https://localhost:8080/"
        },
        "outputId": "17a6cad5-3e42-4575-9e4d-9ad7d25a7d7e"
      },
      "source": [
        "from sklearn.metrics import roc_auc_score\n",
        "\n",
        "y_true = [\n",
        "    0,\n",
        "    1,\n",
        "    1,\n",
        "    0,\n",
        "    1\n",
        "]\n",
        "\n",
        "y_predictions = [\n",
        "    0.1,\n",
        "    0.9,\n",
        "    0.4,\n",
        "    0.6,\n",
        "    0.61\n",
        "]\n",
        "\n",
        "roc_auc_score(y_true, y_predictions)"
      ],
      "execution_count": 1,
      "outputs": [
        {
          "output_type": "execute_result",
          "data": {
            "text/plain": [
              "0.8333333333333333"
            ]
          },
          "metadata": {},
          "execution_count": 1
        }
      ]
    },
    {
      "cell_type": "markdown",
      "metadata": {
        "id": "IrDNNkNTEEYz"
      },
      "source": [
        "# Первая часть. Исследование"
      ]
    },
    {
      "cell_type": "code",
      "metadata": {
        "id": "lzLqEeZKEEYz"
      },
      "source": [
        "import pandas as pd\n",
        "import numpy as np\n",
        "from matplotlib import pyplot as plt"
      ],
      "execution_count": 2,
      "outputs": []
    },
    {
      "cell_type": "markdown",
      "metadata": {
        "id": "LOlxdURSEEY3"
      },
      "source": [
        "## Загрузка данных (2 балла)\n",
        "\n",
        "1) Посмотрите на случайные строчки. \n",
        "\n",
        "2) Посмотрите, есть ли в датасете незаполненные значения (nan'ы) с помощью data.isna() или data.info() и, если нужно, замените их на что-то. Будет хорошо, если вы построите табличку с количеством nan в каждой колонке."
      ]
    },
    {
      "cell_type": "code",
      "metadata": {
        "id": "pw-Brue9EEY3"
      },
      "source": [
        "data = pd.read_csv('./train.csv')"
      ],
      "execution_count": 3,
      "outputs": []
    },
    {
      "cell_type": "code",
      "metadata": {
        "id": "KgnkkF5bEEY9"
      },
      "source": [
        "# Для вашего удобства списки с именами разных колонок\n",
        "\n",
        "# Числовые признаки\n",
        "num_cols = [\n",
        "    'ClientPeriod',\n",
        "    'MonthlySpending',\n",
        "    'TotalSpent'\n",
        "]\n",
        "\n",
        "# Категориальные признаки\n",
        "cat_cols = [\n",
        "    'Sex',\n",
        "    'IsSeniorCitizen',\n",
        "    'HasPartner',\n",
        "    'HasChild',\n",
        "    'HasPhoneService',\n",
        "    'HasMultiplePhoneNumbers',\n",
        "    'HasInternetService',\n",
        "    'HasOnlineSecurityService',\n",
        "    'HasOnlineBackup',\n",
        "    'HasDeviceProtection',\n",
        "    'HasTechSupportAccess',\n",
        "    'HasOnlineTV',\n",
        "    'HasMovieSubscription',\n",
        "    'HasContractPhone',\n",
        "    'IsBillingPaperless',\n",
        "    'PaymentMethod'\n",
        "]\n",
        "\n",
        "feature_cols = num_cols + cat_cols\n",
        "target_col = 'Churn'"
      ],
      "execution_count": 4,
      "outputs": []
    },
    {
      "cell_type": "code",
      "metadata": {
        "id": "tHC6gWabEEZA"
      },
      "source": [
        "# YOUR CODE"
      ],
      "execution_count": 5,
      "outputs": []
    },
    {
      "cell_type": "code",
      "metadata": {
        "colab": {
          "base_uri": "https://localhost:8080/",
          "height": 292
        },
        "id": "T5AM6ezG4LzY",
        "outputId": "30677498-6d00-4f16-8328-0417ddf95456"
      },
      "source": [
        "data.head()"
      ],
      "execution_count": 6,
      "outputs": [
        {
          "output_type": "execute_result",
          "data": {
            "text/html": [
              "<div>\n",
              "<style scoped>\n",
              "    .dataframe tbody tr th:only-of-type {\n",
              "        vertical-align: middle;\n",
              "    }\n",
              "\n",
              "    .dataframe tbody tr th {\n",
              "        vertical-align: top;\n",
              "    }\n",
              "\n",
              "    .dataframe thead th {\n",
              "        text-align: right;\n",
              "    }\n",
              "</style>\n",
              "<table border=\"1\" class=\"dataframe\">\n",
              "  <thead>\n",
              "    <tr style=\"text-align: right;\">\n",
              "      <th></th>\n",
              "      <th>ClientPeriod</th>\n",
              "      <th>MonthlySpending</th>\n",
              "      <th>TotalSpent</th>\n",
              "      <th>Sex</th>\n",
              "      <th>IsSeniorCitizen</th>\n",
              "      <th>HasPartner</th>\n",
              "      <th>HasChild</th>\n",
              "      <th>HasPhoneService</th>\n",
              "      <th>HasMultiplePhoneNumbers</th>\n",
              "      <th>HasInternetService</th>\n",
              "      <th>HasOnlineSecurityService</th>\n",
              "      <th>HasOnlineBackup</th>\n",
              "      <th>HasDeviceProtection</th>\n",
              "      <th>HasTechSupportAccess</th>\n",
              "      <th>HasOnlineTV</th>\n",
              "      <th>HasMovieSubscription</th>\n",
              "      <th>HasContractPhone</th>\n",
              "      <th>IsBillingPaperless</th>\n",
              "      <th>PaymentMethod</th>\n",
              "      <th>Churn</th>\n",
              "    </tr>\n",
              "  </thead>\n",
              "  <tbody>\n",
              "    <tr>\n",
              "      <th>0</th>\n",
              "      <td>55</td>\n",
              "      <td>19.50</td>\n",
              "      <td>1026.35</td>\n",
              "      <td>Male</td>\n",
              "      <td>0</td>\n",
              "      <td>Yes</td>\n",
              "      <td>Yes</td>\n",
              "      <td>Yes</td>\n",
              "      <td>No</td>\n",
              "      <td>No</td>\n",
              "      <td>No internet service</td>\n",
              "      <td>No internet service</td>\n",
              "      <td>No internet service</td>\n",
              "      <td>No internet service</td>\n",
              "      <td>No internet service</td>\n",
              "      <td>No internet service</td>\n",
              "      <td>One year</td>\n",
              "      <td>No</td>\n",
              "      <td>Mailed check</td>\n",
              "      <td>0</td>\n",
              "    </tr>\n",
              "    <tr>\n",
              "      <th>1</th>\n",
              "      <td>72</td>\n",
              "      <td>25.85</td>\n",
              "      <td>1872.2</td>\n",
              "      <td>Male</td>\n",
              "      <td>0</td>\n",
              "      <td>Yes</td>\n",
              "      <td>No</td>\n",
              "      <td>Yes</td>\n",
              "      <td>Yes</td>\n",
              "      <td>No</td>\n",
              "      <td>No internet service</td>\n",
              "      <td>No internet service</td>\n",
              "      <td>No internet service</td>\n",
              "      <td>No internet service</td>\n",
              "      <td>No internet service</td>\n",
              "      <td>No internet service</td>\n",
              "      <td>Two year</td>\n",
              "      <td>No</td>\n",
              "      <td>Credit card (automatic)</td>\n",
              "      <td>0</td>\n",
              "    </tr>\n",
              "    <tr>\n",
              "      <th>2</th>\n",
              "      <td>1</td>\n",
              "      <td>75.90</td>\n",
              "      <td>75.9</td>\n",
              "      <td>Male</td>\n",
              "      <td>0</td>\n",
              "      <td>No</td>\n",
              "      <td>No</td>\n",
              "      <td>Yes</td>\n",
              "      <td>No</td>\n",
              "      <td>Fiber optic</td>\n",
              "      <td>No</td>\n",
              "      <td>No</td>\n",
              "      <td>No</td>\n",
              "      <td>Yes</td>\n",
              "      <td>No</td>\n",
              "      <td>No</td>\n",
              "      <td>Month-to-month</td>\n",
              "      <td>Yes</td>\n",
              "      <td>Electronic check</td>\n",
              "      <td>1</td>\n",
              "    </tr>\n",
              "    <tr>\n",
              "      <th>3</th>\n",
              "      <td>32</td>\n",
              "      <td>79.30</td>\n",
              "      <td>2570</td>\n",
              "      <td>Female</td>\n",
              "      <td>1</td>\n",
              "      <td>Yes</td>\n",
              "      <td>No</td>\n",
              "      <td>Yes</td>\n",
              "      <td>Yes</td>\n",
              "      <td>Fiber optic</td>\n",
              "      <td>No</td>\n",
              "      <td>No</td>\n",
              "      <td>Yes</td>\n",
              "      <td>No</td>\n",
              "      <td>No</td>\n",
              "      <td>No</td>\n",
              "      <td>Month-to-month</td>\n",
              "      <td>No</td>\n",
              "      <td>Mailed check</td>\n",
              "      <td>0</td>\n",
              "    </tr>\n",
              "    <tr>\n",
              "      <th>4</th>\n",
              "      <td>60</td>\n",
              "      <td>115.25</td>\n",
              "      <td>6758.45</td>\n",
              "      <td>Female</td>\n",
              "      <td>0</td>\n",
              "      <td>Yes</td>\n",
              "      <td>Yes</td>\n",
              "      <td>Yes</td>\n",
              "      <td>Yes</td>\n",
              "      <td>Fiber optic</td>\n",
              "      <td>Yes</td>\n",
              "      <td>Yes</td>\n",
              "      <td>Yes</td>\n",
              "      <td>Yes</td>\n",
              "      <td>Yes</td>\n",
              "      <td>Yes</td>\n",
              "      <td>Two year</td>\n",
              "      <td>No</td>\n",
              "      <td>Credit card (automatic)</td>\n",
              "      <td>0</td>\n",
              "    </tr>\n",
              "  </tbody>\n",
              "</table>\n",
              "</div>"
            ],
            "text/plain": [
              "   ClientPeriod  MonthlySpending  ...            PaymentMethod Churn\n",
              "0            55            19.50  ...             Mailed check     0\n",
              "1            72            25.85  ...  Credit card (automatic)     0\n",
              "2             1            75.90  ...         Electronic check     1\n",
              "3            32            79.30  ...             Mailed check     0\n",
              "4            60           115.25  ...  Credit card (automatic)     0\n",
              "\n",
              "[5 rows x 20 columns]"
            ]
          },
          "metadata": {},
          "execution_count": 6
        }
      ]
    },
    {
      "cell_type": "code",
      "metadata": {
        "colab": {
          "base_uri": "https://localhost:8080/"
        },
        "id": "RISfhjRrEMww",
        "outputId": "88bdf6c2-822a-4f77-a739-b3c6a97f8f0e"
      },
      "source": [
        "data.info()"
      ],
      "execution_count": 7,
      "outputs": [
        {
          "output_type": "stream",
          "name": "stdout",
          "text": [
            "<class 'pandas.core.frame.DataFrame'>\n",
            "RangeIndex: 5282 entries, 0 to 5281\n",
            "Data columns (total 20 columns):\n",
            " #   Column                    Non-Null Count  Dtype  \n",
            "---  ------                    --------------  -----  \n",
            " 0   ClientPeriod              5282 non-null   int64  \n",
            " 1   MonthlySpending           5282 non-null   float64\n",
            " 2   TotalSpent                5282 non-null   object \n",
            " 3   Sex                       5282 non-null   object \n",
            " 4   IsSeniorCitizen           5282 non-null   int64  \n",
            " 5   HasPartner                5282 non-null   object \n",
            " 6   HasChild                  5282 non-null   object \n",
            " 7   HasPhoneService           5282 non-null   object \n",
            " 8   HasMultiplePhoneNumbers   5282 non-null   object \n",
            " 9   HasInternetService        5282 non-null   object \n",
            " 10  HasOnlineSecurityService  5282 non-null   object \n",
            " 11  HasOnlineBackup           5282 non-null   object \n",
            " 12  HasDeviceProtection       5282 non-null   object \n",
            " 13  HasTechSupportAccess      5282 non-null   object \n",
            " 14  HasOnlineTV               5282 non-null   object \n",
            " 15  HasMovieSubscription      5282 non-null   object \n",
            " 16  HasContractPhone          5282 non-null   object \n",
            " 17  IsBillingPaperless        5282 non-null   object \n",
            " 18  PaymentMethod             5282 non-null   object \n",
            " 19  Churn                     5282 non-null   int64  \n",
            "dtypes: float64(1), int64(3), object(16)\n",
            "memory usage: 825.4+ KB\n"
          ]
        }
      ]
    },
    {
      "cell_type": "code",
      "metadata": {
        "colab": {
          "base_uri": "https://localhost:8080/",
          "height": 669
        },
        "id": "-YLgcEFiEzlF",
        "outputId": "28910296-0894-454f-f65f-96aa44fdf251"
      },
      "source": [
        "pd.DataFrame(data.isna().sum()).reset_index().rename(columns={'index' : 'column_name', 0 : 'number_of_NaNs'})"
      ],
      "execution_count": 8,
      "outputs": [
        {
          "output_type": "execute_result",
          "data": {
            "text/html": [
              "<div>\n",
              "<style scoped>\n",
              "    .dataframe tbody tr th:only-of-type {\n",
              "        vertical-align: middle;\n",
              "    }\n",
              "\n",
              "    .dataframe tbody tr th {\n",
              "        vertical-align: top;\n",
              "    }\n",
              "\n",
              "    .dataframe thead th {\n",
              "        text-align: right;\n",
              "    }\n",
              "</style>\n",
              "<table border=\"1\" class=\"dataframe\">\n",
              "  <thead>\n",
              "    <tr style=\"text-align: right;\">\n",
              "      <th></th>\n",
              "      <th>column_name</th>\n",
              "      <th>number_of_NaNs</th>\n",
              "    </tr>\n",
              "  </thead>\n",
              "  <tbody>\n",
              "    <tr>\n",
              "      <th>0</th>\n",
              "      <td>ClientPeriod</td>\n",
              "      <td>0</td>\n",
              "    </tr>\n",
              "    <tr>\n",
              "      <th>1</th>\n",
              "      <td>MonthlySpending</td>\n",
              "      <td>0</td>\n",
              "    </tr>\n",
              "    <tr>\n",
              "      <th>2</th>\n",
              "      <td>TotalSpent</td>\n",
              "      <td>0</td>\n",
              "    </tr>\n",
              "    <tr>\n",
              "      <th>3</th>\n",
              "      <td>Sex</td>\n",
              "      <td>0</td>\n",
              "    </tr>\n",
              "    <tr>\n",
              "      <th>4</th>\n",
              "      <td>IsSeniorCitizen</td>\n",
              "      <td>0</td>\n",
              "    </tr>\n",
              "    <tr>\n",
              "      <th>5</th>\n",
              "      <td>HasPartner</td>\n",
              "      <td>0</td>\n",
              "    </tr>\n",
              "    <tr>\n",
              "      <th>6</th>\n",
              "      <td>HasChild</td>\n",
              "      <td>0</td>\n",
              "    </tr>\n",
              "    <tr>\n",
              "      <th>7</th>\n",
              "      <td>HasPhoneService</td>\n",
              "      <td>0</td>\n",
              "    </tr>\n",
              "    <tr>\n",
              "      <th>8</th>\n",
              "      <td>HasMultiplePhoneNumbers</td>\n",
              "      <td>0</td>\n",
              "    </tr>\n",
              "    <tr>\n",
              "      <th>9</th>\n",
              "      <td>HasInternetService</td>\n",
              "      <td>0</td>\n",
              "    </tr>\n",
              "    <tr>\n",
              "      <th>10</th>\n",
              "      <td>HasOnlineSecurityService</td>\n",
              "      <td>0</td>\n",
              "    </tr>\n",
              "    <tr>\n",
              "      <th>11</th>\n",
              "      <td>HasOnlineBackup</td>\n",
              "      <td>0</td>\n",
              "    </tr>\n",
              "    <tr>\n",
              "      <th>12</th>\n",
              "      <td>HasDeviceProtection</td>\n",
              "      <td>0</td>\n",
              "    </tr>\n",
              "    <tr>\n",
              "      <th>13</th>\n",
              "      <td>HasTechSupportAccess</td>\n",
              "      <td>0</td>\n",
              "    </tr>\n",
              "    <tr>\n",
              "      <th>14</th>\n",
              "      <td>HasOnlineTV</td>\n",
              "      <td>0</td>\n",
              "    </tr>\n",
              "    <tr>\n",
              "      <th>15</th>\n",
              "      <td>HasMovieSubscription</td>\n",
              "      <td>0</td>\n",
              "    </tr>\n",
              "    <tr>\n",
              "      <th>16</th>\n",
              "      <td>HasContractPhone</td>\n",
              "      <td>0</td>\n",
              "    </tr>\n",
              "    <tr>\n",
              "      <th>17</th>\n",
              "      <td>IsBillingPaperless</td>\n",
              "      <td>0</td>\n",
              "    </tr>\n",
              "    <tr>\n",
              "      <th>18</th>\n",
              "      <td>PaymentMethod</td>\n",
              "      <td>0</td>\n",
              "    </tr>\n",
              "    <tr>\n",
              "      <th>19</th>\n",
              "      <td>Churn</td>\n",
              "      <td>0</td>\n",
              "    </tr>\n",
              "  </tbody>\n",
              "</table>\n",
              "</div>"
            ],
            "text/plain": [
              "                 column_name  number_of_NaNs\n",
              "0               ClientPeriod               0\n",
              "1            MonthlySpending               0\n",
              "2                 TotalSpent               0\n",
              "3                        Sex               0\n",
              "4            IsSeniorCitizen               0\n",
              "5                 HasPartner               0\n",
              "6                   HasChild               0\n",
              "7            HasPhoneService               0\n",
              "8    HasMultiplePhoneNumbers               0\n",
              "9         HasInternetService               0\n",
              "10  HasOnlineSecurityService               0\n",
              "11           HasOnlineBackup               0\n",
              "12       HasDeviceProtection               0\n",
              "13      HasTechSupportAccess               0\n",
              "14               HasOnlineTV               0\n",
              "15      HasMovieSubscription               0\n",
              "16          HasContractPhone               0\n",
              "17        IsBillingPaperless               0\n",
              "18             PaymentMethod               0\n",
              "19                     Churn               0"
            ]
          },
          "metadata": {},
          "execution_count": 8
        }
      ]
    },
    {
      "cell_type": "markdown",
      "metadata": {
        "id": "dK370bPCEEZD"
      },
      "source": [
        "## Анализ данных (3 балла)\n",
        "\n",
        "1) Для численных призанков постройте гистограмму (*plt.hist(...)*) или boxplot (*plt.boxplot(...)*). Для категориальных посчитайте количество каждого значения для каждого признака. Для каждой колонки надо сделать *data.value_counts()* и построить bar диаграммы *plt.bar(...)* или круговые диаграммы *plt.pie(...)* (хорошо, елси вы сможете это сделать на одном гарфике с помощью *plt.subplots(...)*). \n",
        "\n",
        "2) Посмотрите на распределение целевой переменной и скажите, являются ли классы несбалансированными.\n",
        "\n",
        "3) (Если будет желание) Поиграйте с разными библиотеками для визуализации - *sns*, *pandas_visual_analysis*, etc.\n",
        "\n",
        "Второй пункт очень важен, потому что существуют задачи классификации с несбалансированными классами. Например, это может значить, что в датасете намного больше примеров 0 класса. В таких случаях нужно 1) не использовать accuracy как метрику 2) использовать методы борьбы с imbalanced dataset (обычно если датасет сильно несбалансирован, т.е. класса 1 в 20 раз меньше класса 0)."
      ]
    },
    {
      "cell_type": "code",
      "metadata": {
        "id": "NZkbgFJZEEZE"
      },
      "source": [
        "# YOUR CODE"
      ],
      "execution_count": 9,
      "outputs": []
    },
    {
      "cell_type": "code",
      "metadata": {
        "colab": {
          "base_uri": "https://localhost:8080/",
          "height": 553
        },
        "id": "SX36Ny11i5jF",
        "outputId": "6cb6900c-36d1-4a86-8aa3-1440688b7f1b"
      },
      "source": [
        "fig, ax = plt.subplots(1, 3, figsize=(18, 9))\n",
        "ax = ax.ravel()\n",
        "\n",
        "for i, num_col in enumerate(num_cols):\n",
        "    ax[i].set_title(num_col)\n",
        "    ax[i].hist(data[num_col])\n",
        "    ax[i].grid(alpha=0.5)"
      ],
      "execution_count": 10,
      "outputs": [
        {
          "output_type": "display_data",
          "data": {
            "image/png": "[encoded data removed]",
            "text/plain": [
              "<Figure size 1296x648 with 3 Axes>"
            ]
          },
          "metadata": {
            "needs_background": "light"
          }
        }
      ]
    },
    {
      "cell_type": "code",
      "metadata": {
        "id": "LdeH_iibpCHM",
        "outputId": "e047a9c6-f192-4d0c-e696-ef41808b40be",
        "colab": {
          "base_uri": "https://localhost:8080/"
        }
      },
      "source": [
        "# посмотрим что с 3 гистограммой\n",
        "for x in data['TotalSpent']:\n",
        "  try:\n",
        "    float(x)\n",
        "  except Exception:\n",
        "    print(f'\"{x}\"', len(x), type(x))"
      ],
      "execution_count": 12,
      "outputs": [
        {
          "output_type": "stream",
          "name": "stdout",
          "text": [
            "\" \" 1 <class 'str'>\n",
            "\" \" 1 <class 'str'>\n",
            "\" \" 1 <class 'str'>\n",
            "\" \" 1 <class 'str'>\n",
            "\" \" 1 <class 'str'>\n",
            "\" \" 1 <class 'str'>\n",
            "\" \" 1 <class 'str'>\n",
            "\" \" 1 <class 'str'>\n",
            "\" \" 1 <class 'str'>\n"
          ]
        }
      ]
    },
    {
      "cell_type": "code",
      "metadata": {
        "id": "87f-ONFxpIKM"
      },
      "source": [
        "# вероятно пропуски означают, что TotalSpent этих пользователей = 0 \n",
        "def float_x(x):\n",
        "  try:\n",
        "    return float(x)\n",
        "  except Exception:\n",
        "    return 0."
      ],
      "execution_count": 13,
      "outputs": []
    },
    {
      "cell_type": "code",
      "metadata": {
        "id": "q-aC6c1dwk7C"
      },
      "source": [
        "# исправим 3 гистограмму\n",
        "\n",
        "data['TotalSpent'] = data['TotalSpent'].apply(lambda x: float_x(x))"
      ],
      "execution_count": 14,
      "outputs": []
    },
    {
      "cell_type": "code",
      "metadata": {
        "colab": {
          "base_uri": "https://localhost:8080/",
          "height": 390
        },
        "id": "9x1ihdCCx754",
        "outputId": "07ffaf92-85a8-4efe-95db-7842fda14a6c"
      },
      "source": [
        "fig, ax = plt.subplots(1, 3, figsize=(18, 6))\n",
        "ax = ax.ravel()\n",
        "\n",
        "for i, num_col in enumerate(num_cols):\n",
        "    ax[i].set_title(num_col)\n",
        "    ax[i].hist(data[num_col])\n",
        "    ax[i].grid(alpha=0.5)"
      ],
      "execution_count": 15,
      "outputs": [
        {
          "output_type": "display_data",
          "data": {
            "image/png": "[encoded data removed]",
            "text/plain": [
              "<Figure size 1296x432 with 3 Axes>"
            ]
          },
          "metadata": {
            "needs_background": "light"
          }
        }
      ]
    },
    {
      "cell_type": "code",
      "metadata": {
        "colab": {
          "base_uri": "https://localhost:8080/"
        },
        "id": "jJl66pV_1fCv",
        "outputId": "b17d29d1-7cd5-442c-afbc-2448140b0b8b"
      },
      "source": [
        "len(cat_cols)"
      ],
      "execution_count": 16,
      "outputs": [
        {
          "output_type": "execute_result",
          "data": {
            "text/plain": [
              "16"
            ]
          },
          "metadata": {},
          "execution_count": 16
        }
      ]
    },
    {
      "cell_type": "code",
      "metadata": {
        "colab": {
          "base_uri": "https://localhost:8080/",
          "height": 1000
        },
        "id": "tPLhfnwA0J1c",
        "outputId": "fd5df2b3-9d6e-4bd2-e28c-a278b575cc55"
      },
      "source": [
        "fig, ax = plt.subplots(4, 4, figsize=(20, 20))\n",
        "ax = ax.ravel()\n",
        "fig.suptitle(\"Categorial columns\", fontsize=25)\n",
        "\n",
        "\n",
        "for i, cat_col in enumerate(cat_cols):\n",
        "  ax[i].pie(data[cat_col].value_counts(), labels=data[cat_col].value_counts().index, autopct='%1.1f%%')\n",
        "  ax[i].set_title(cat_col)\n",
        "  #ax[i].legend()\n"
      ],
      "execution_count": 17,
      "outputs": [
        {
          "output_type": "display_data",
          "data": {
            "image/png": "[encoded data removed]",
            "text/plain": [
              "<Figure size 1440x1440 with 16 Axes>"
            ]
          },
          "metadata": {}
        }
      ]
    },
    {
      "cell_type": "code",
      "metadata": {
        "colab": {
          "base_uri": "https://localhost:8080/",
          "height": 462
        },
        "id": "UwuO08FI4kUu",
        "outputId": "e02baa27-5eaf-491a-bef6-4cb42de1e325"
      },
      "source": [
        "plt.figure(figsize=(7, 7))\n",
        "plt.suptitle(\"Target\", fontsize=25)\n",
        "plt.pie(data['Churn'].value_counts(), labels=data['Churn'].value_counts().index, autopct='%1.1f%%')\n",
        "plt.legend()\n",
        "plt.show()"
      ],
      "execution_count": 18,
      "outputs": [
        {
          "output_type": "display_data",
          "data": {
            "image/png": "[encoded data removed]",
            "text/plain": [
              "<Figure size 504x504 with 1 Axes>"
            ]
          },
          "metadata": {}
        }
      ]
    },
    {
      "cell_type": "code",
      "metadata": {
        "id": "6cqCtMaB5PA0"
      },
      "source": [
        "# В целом целевая переменная сбалансирована"
      ],
      "execution_count": null,
      "outputs": []
    },
    {
      "cell_type": "markdown",
      "metadata": {
        "id": "zg60u3QDEEZH"
      },
      "source": [
        "(Дополнительно) Если вы нашли какие-то ошибки в данных или выбросы, то можете их убрать. Тут можно поэксперементировать с обработкой данных как угодно, но не за баллы."
      ]
    },
    {
      "cell_type": "code",
      "metadata": {
        "id": "fwfksF1gEEZI"
      },
      "source": [
        "# YOUR CODE"
      ],
      "execution_count": null,
      "outputs": []
    },
    {
      "cell_type": "markdown",
      "metadata": {
        "id": "DviiJd8REEZK"
      },
      "source": [
        "## Применение линейных моделей (3 балла)\n",
        "\n",
        "1) Обработайте данные для того, чтобы к ним можно было применить LogisticRegression. Т.е. отнормируйте числовые признаки, а категориальные закодируйте с помощью one-hot-encoding'а. \n",
        "\n",
        "2) С помощью кроссвалидации или разделения на train/valid выборку протестируйте разные значения гиперпараметра C и выберите лучший (можно тестировать С=100, 10, 1, 0.1, 0.01, 0.001) по метрике ROC-AUC. \n",
        "\n",
        "Если вы разделяете на train/valid, то используйте LogisticRegressionCV. Он сам при вызове .fit() подберет параметр С. (не забудьте передать scroing='roc_auc', чтобы при кроссвалидации сравнивались значения этой метрики, и refit=True, чтобы при потом модель обучилась на всем датасете с лучшим параметром C). \n",
        "\n",
        "\n",
        "(более сложный вариант) Если вы будете использовать кроссвалидацию, то преобразования данных и LogisticRegression нужно соединить в один Pipeline с помощью make_pipeline, как это делалось во втором семинаре. Потом pipeline надо передать в GridSearchCV. Для one-hot-encoding'a можно испльзовать комбинацию LabelEncoder + OneHotEncoder (сначала превращаем строчки в числа, а потом числа првращаем в one-hot вектора.)"
      ]
    },
    {
      "cell_type": "code",
      "metadata": {
        "id": "xHCLDmwqEEZL"
      },
      "source": [
        "from sklearn.linear_model import LogisticRegression, LogisticRegressionCV\n",
        "from sklearn.model_selection import train_test_split, GridSearchCV\n",
        "from sklearn.preprocessing import StandardScaler, RobustScaler, LabelEncoder, OneHotEncoder\n",
        "from sklearn.pipeline import make_pipeline"
      ],
      "execution_count": 19,
      "outputs": []
    },
    {
      "cell_type": "code",
      "metadata": {
        "id": "P2Yv3uYtEEZO"
      },
      "source": [
        "# YOUR CODE"
      ],
      "execution_count": 20,
      "outputs": []
    },
    {
      "cell_type": "code",
      "metadata": {
        "id": "XrJTG4hAXYyz"
      },
      "source": [
        "numeric_data = data[num_cols]\n",
        "cat_data = data[cat_cols]\n",
        "dummy_features = pd.get_dummies(cat_data)\n",
        "\n",
        "X = pd.concat([numeric_data, dummy_features], axis=1)\n",
        "y = data['Churn']\n",
        "\n",
        "X_origin = data.iloc[:, :-1]\n",
        "\n",
        "X_train, X_test, y_train, y_test = train_test_split(X.values, y.values, train_size=0.8, random_state=42)\n",
        "\n",
        "cls = make_pipeline(StandardScaler(), LogisticRegression())\n",
        "params = {'logisticregression__C' : [100, 50, 10, 1, 0.1, 0.01, 0.001]}\n",
        "clf = GridSearchCV(cls, param_grid=params, cv=5, refit=True, scoring='roc_auc', n_jobs=-1)\n",
        "clf.fit(X_train, y_train);"
      ],
      "execution_count": 21,
      "outputs": []
    },
    {
      "cell_type": "code",
      "metadata": {
        "colab": {
          "base_uri": "https://localhost:8080/"
        },
        "id": "UWEHsCdu1XPv",
        "outputId": "5df39bb5-f1e2-42e1-ff07-663fb50668ac"
      },
      "source": [
        "y_train_predicted = clf.predict(X_train)\n",
        "y_test_predicted = clf.predict(X_test)\n",
        "\n",
        "roc_auc_score(y_train, y_train_predicted), roc_auc_score(y_test, y_test_predicted)"
      ],
      "execution_count": 22,
      "outputs": [
        {
          "output_type": "execute_result",
          "data": {
            "text/plain": [
              "(0.7328831573619541, 0.6816962347965017)"
            ]
          },
          "metadata": {},
          "execution_count": 22
        }
      ]
    },
    {
      "cell_type": "code",
      "metadata": {
        "colab": {
          "base_uri": "https://localhost:8080/"
        },
        "id": "eZ6KSFVA2WfH",
        "outputId": "2bf73d08-1930-4c00-ea14-09ca9db03bb3"
      },
      "source": [
        "print(clf.best_score_, clf.best_params_, sep='\\n')"
      ],
      "execution_count": 23,
      "outputs": [
        {
          "output_type": "stream",
          "name": "stdout",
          "text": [
            "0.8488218505650759\n",
            "{'logisticregression__C': 100}\n"
          ]
        }
      ]
    },
    {
      "cell_type": "markdown",
      "metadata": {
        "id": "uVahy6JKEEZQ"
      },
      "source": [
        "Выпишите какое лучшее качество и с какими параметрами вам удалось получить"
      ]
    },
    {
      "cell_type": "markdown",
      "metadata": {
        "id": "36729TOQEEZR"
      },
      "source": [
        "Лучшее качество 0.8488218505650759 при значении C равному 100"
      ]
    },
    {
      "cell_type": "markdown",
      "metadata": {
        "id": "BlTeVy7fEEZR"
      },
      "source": [
        "## Применение градиентного бустинга (2 балла)\n",
        "\n",
        "Если вы хотите получить баллы за точный ответ, то стоит попробовать градиентный бустинг. Часто градиентный бустинг с дефолтными параметрами даст вам 80% результата за 0% усилий.\n",
        "\n",
        "Мы будем использовать catboost, поэтому нам не надо кодировать категориальные признаки. catboost сделает это сам (в .fit() надо передать cat_features=cat_cols). А численные признаки нормировать для моделей, основанных на деревьях не нужно.\n",
        "\n",
        "1) Разделите выборку на train/valid. Протестируйте catboost cо стандартными параметрами.\n",
        "\n",
        "2) Протестируйте разные занчения параметроа количества деревьев и learning_rate'а и выберите лучшую по метрике ROC-AUC комбинацию. \n",
        "\n",
        "(Дополнительно) Есть некоторые сложности с тем, чтобы использовать CatBoostClassifier вместе с GridSearchCV, поэтому мы не просим использовать кроссвалидацию. Но можете попробовать)"
      ]
    },
    {
      "cell_type": "code",
      "metadata": {
        "id": "Fioxxlp-EEZS"
      },
      "source": [
        "# YOUR CODE"
      ],
      "execution_count": 24,
      "outputs": []
    },
    {
      "cell_type": "code",
      "metadata": {
        "colab": {
          "base_uri": "https://localhost:8080/"
        },
        "id": "swGN-hWn-qre",
        "outputId": "6a093f91-bed4-4997-9757-2b70e9739f96"
      },
      "source": [
        "!pip install catboost\n",
        "import catboost \n",
        "from catboost import CatBoostClassifier"
      ],
      "execution_count": 25,
      "outputs": [
        {
          "output_type": "stream",
          "name": "stdout",
          "text": [
            "Collecting catboost\n",
            "  Downloading catboost-1.0.0-cp37-none-manylinux1_x86_64.whl (76.4 MB)\n",
            "\u001b[K     |████████████████████████████████| 76.4 MB 28 kB/s \n",
            "\u001b[?25hRequirement already satisfied: graphviz in /usr/local/lib/python3.7/dist-packages (from catboost) (0.10.1)\n",
            "Requirement already satisfied: matplotlib in /usr/local/lib/python3.7/dist-packages (from catboost) (3.2.2)\n",
            "Requirement already satisfied: numpy>=1.16.0 in /usr/local/lib/python3.7/dist-packages (from catboost) (1.19.5)\n",
            "Requirement already satisfied: pandas>=0.24.0 in /usr/local/lib/python3.7/dist-packages (from catboost) (1.1.5)\n",
            "Requirement already satisfied: plotly in /usr/local/lib/python3.7/dist-packages (from catboost) (4.4.1)\n",
            "Requirement already satisfied: six in /usr/local/lib/python3.7/dist-packages (from catboost) (1.15.0)\n",
            "Requirement already satisfied: scipy in /usr/local/lib/python3.7/dist-packages (from catboost) (1.4.1)\n",
            "Requirement already satisfied: python-dateutil>=2.7.3 in /usr/local/lib/python3.7/dist-packages (from pandas>=0.24.0->catboost) (2.8.2)\n",
            "Requirement already satisfied: pytz>=2017.2 in /usr/local/lib/python3.7/dist-packages (from pandas>=0.24.0->catboost) (2018.9)\n",
            "Requirement already satisfied: pyparsing!=2.0.4,!=2.1.2,!=2.1.6,>=2.0.1 in /usr/local/lib/python3.7/dist-packages (from matplotlib->catboost) (2.4.7)\n",
            "Requirement already satisfied: cycler>=0.10 in /usr/local/lib/python3.7/dist-packages (from matplotlib->catboost) (0.10.0)\n",
            "Requirement already satisfied: kiwisolver>=1.0.1 in /usr/local/lib/python3.7/dist-packages (from matplotlib->catboost) (1.3.2)\n",
            "Requirement already satisfied: retrying>=1.3.3 in /usr/local/lib/python3.7/dist-packages (from plotly->catboost) (1.3.3)\n",
            "Installing collected packages: catboost\n",
            "Successfully installed catboost-1.0.0\n"
          ]
        }
      ]
    },
    {
      "cell_type": "code",
      "metadata": {
        "colab": {
          "base_uri": "https://localhost:8080/"
        },
        "id": "eOLlwTCp-3-H",
        "outputId": "b74bf746-231a-4aad-9902-ac9a0a5882ae"
      },
      "source": [
        "categorical_indices=[data.columns.get_loc(c) for c in cat_cols if c in data]\n",
        "\n",
        "X_train, X_test, y_train, y_test = train_test_split(X_origin.values, y.values, train_size=0.8, random_state=42)\n",
        "clf = CatBoostClassifier(cat_features=categorical_indices)\n",
        "clf.fit(X_train, y_train)\n"
      ],
      "execution_count": 26,
      "outputs": [
        {
          "output_type": "stream",
          "name": "stdout",
          "text": [
            "Learning rate set to 0.019062\n",
            "0:\tlearn: 0.6798227\ttotal: 64.7ms\tremaining: 1m 4s\n",
            "1:\tlearn: 0.6678084\ttotal: 78.1ms\tremaining: 39s\n",
            "2:\tlearn: 0.6553003\ttotal: 91.6ms\tremaining: 30.5s\n",
            "3:\tlearn: 0.6435910\ttotal: 104ms\tremaining: 26s\n",
            "4:\tlearn: 0.6326850\ttotal: 121ms\tremaining: 24.1s\n",
            "5:\tlearn: 0.6225823\ttotal: 139ms\tremaining: 23s\n",
            "6:\tlearn: 0.6128742\ttotal: 149ms\tremaining: 21.2s\n",
            "7:\tlearn: 0.6048572\ttotal: 155ms\tremaining: 19.2s\n",
            "8:\tlearn: 0.5958847\ttotal: 167ms\tremaining: 18.4s\n",
            "9:\tlearn: 0.5871696\ttotal: 180ms\tremaining: 17.8s\n",
            "10:\tlearn: 0.5792007\ttotal: 192ms\tremaining: 17.3s\n",
            "11:\tlearn: 0.5713099\ttotal: 210ms\tremaining: 17.3s\n",
            "12:\tlearn: 0.5643834\ttotal: 220ms\tremaining: 16.7s\n",
            "13:\tlearn: 0.5569418\ttotal: 233ms\tremaining: 16.4s\n",
            "14:\tlearn: 0.5502712\ttotal: 248ms\tremaining: 16.3s\n",
            "15:\tlearn: 0.5441586\ttotal: 262ms\tremaining: 16.1s\n",
            "16:\tlearn: 0.5381109\ttotal: 274ms\tremaining: 15.8s\n",
            "17:\tlearn: 0.5324322\ttotal: 288ms\tremaining: 15.7s\n",
            "18:\tlearn: 0.5268003\ttotal: 301ms\tremaining: 15.6s\n",
            "19:\tlearn: 0.5219835\ttotal: 312ms\tremaining: 15.3s\n",
            "20:\tlearn: 0.5172444\ttotal: 325ms\tremaining: 15.1s\n",
            "21:\tlearn: 0.5128026\ttotal: 340ms\tremaining: 15.1s\n",
            "22:\tlearn: 0.5087266\ttotal: 352ms\tremaining: 14.9s\n",
            "23:\tlearn: 0.5043326\ttotal: 364ms\tremaining: 14.8s\n",
            "24:\tlearn: 0.5002045\ttotal: 379ms\tremaining: 14.8s\n",
            "25:\tlearn: 0.4966419\ttotal: 391ms\tremaining: 14.6s\n",
            "26:\tlearn: 0.4925038\ttotal: 403ms\tremaining: 14.5s\n",
            "27:\tlearn: 0.4890517\ttotal: 419ms\tremaining: 14.5s\n",
            "28:\tlearn: 0.4860670\ttotal: 427ms\tremaining: 14.3s\n",
            "29:\tlearn: 0.4834744\ttotal: 435ms\tremaining: 14.1s\n",
            "30:\tlearn: 0.4807737\ttotal: 443ms\tremaining: 13.8s\n",
            "31:\tlearn: 0.4779702\ttotal: 454ms\tremaining: 13.7s\n",
            "32:\tlearn: 0.4753307\ttotal: 468ms\tremaining: 13.7s\n",
            "33:\tlearn: 0.4721805\ttotal: 481ms\tremaining: 13.7s\n",
            "34:\tlearn: 0.4696706\ttotal: 500ms\tremaining: 13.8s\n",
            "35:\tlearn: 0.4672553\ttotal: 512ms\tremaining: 13.7s\n",
            "36:\tlearn: 0.4647928\ttotal: 524ms\tremaining: 13.6s\n",
            "37:\tlearn: 0.4627877\ttotal: 537ms\tremaining: 13.6s\n",
            "38:\tlearn: 0.4605263\ttotal: 564ms\tremaining: 13.9s\n",
            "39:\tlearn: 0.4590412\ttotal: 572ms\tremaining: 13.7s\n",
            "40:\tlearn: 0.4567017\ttotal: 586ms\tremaining: 13.7s\n",
            "41:\tlearn: 0.4543812\ttotal: 600ms\tremaining: 13.7s\n",
            "42:\tlearn: 0.4522152\ttotal: 621ms\tremaining: 13.8s\n",
            "43:\tlearn: 0.4502931\ttotal: 636ms\tremaining: 13.8s\n",
            "44:\tlearn: 0.4486923\ttotal: 648ms\tremaining: 13.7s\n",
            "45:\tlearn: 0.4470583\ttotal: 658ms\tremaining: 13.6s\n",
            "46:\tlearn: 0.4455320\ttotal: 670ms\tremaining: 13.6s\n",
            "47:\tlearn: 0.4437893\ttotal: 683ms\tremaining: 13.5s\n",
            "48:\tlearn: 0.4428624\ttotal: 688ms\tremaining: 13.3s\n",
            "49:\tlearn: 0.4412781\ttotal: 701ms\tremaining: 13.3s\n",
            "50:\tlearn: 0.4397895\ttotal: 714ms\tremaining: 13.3s\n",
            "51:\tlearn: 0.4384339\ttotal: 725ms\tremaining: 13.2s\n",
            "52:\tlearn: 0.4371854\ttotal: 738ms\tremaining: 13.2s\n",
            "53:\tlearn: 0.4364055\ttotal: 746ms\tremaining: 13.1s\n",
            "54:\tlearn: 0.4352184\ttotal: 760ms\tremaining: 13.1s\n",
            "55:\tlearn: 0.4337721\ttotal: 775ms\tremaining: 13.1s\n",
            "56:\tlearn: 0.4324515\ttotal: 789ms\tremaining: 13s\n",
            "57:\tlearn: 0.4314456\ttotal: 800ms\tremaining: 13s\n",
            "58:\tlearn: 0.4305596\ttotal: 812ms\tremaining: 12.9s\n",
            "59:\tlearn: 0.4292788\ttotal: 828ms\tremaining: 13s\n",
            "60:\tlearn: 0.4283122\ttotal: 835ms\tremaining: 12.8s\n",
            "61:\tlearn: 0.4274593\ttotal: 847ms\tremaining: 12.8s\n",
            "62:\tlearn: 0.4265958\ttotal: 859ms\tremaining: 12.8s\n",
            "63:\tlearn: 0.4260993\ttotal: 864ms\tremaining: 12.6s\n",
            "64:\tlearn: 0.4257903\ttotal: 869ms\tremaining: 12.5s\n",
            "65:\tlearn: 0.4247019\ttotal: 881ms\tremaining: 12.5s\n",
            "66:\tlearn: 0.4236800\ttotal: 895ms\tremaining: 12.5s\n",
            "67:\tlearn: 0.4229522\ttotal: 907ms\tremaining: 12.4s\n",
            "68:\tlearn: 0.4226939\ttotal: 911ms\tremaining: 12.3s\n",
            "69:\tlearn: 0.4218733\ttotal: 923ms\tremaining: 12.3s\n",
            "70:\tlearn: 0.4211414\ttotal: 935ms\tremaining: 12.2s\n",
            "71:\tlearn: 0.4203216\ttotal: 946ms\tremaining: 12.2s\n",
            "72:\tlearn: 0.4194013\ttotal: 958ms\tremaining: 12.2s\n",
            "73:\tlearn: 0.4185774\ttotal: 970ms\tremaining: 12.1s\n",
            "74:\tlearn: 0.4177821\ttotal: 983ms\tremaining: 12.1s\n",
            "75:\tlearn: 0.4171858\ttotal: 999ms\tremaining: 12.2s\n",
            "76:\tlearn: 0.4164366\ttotal: 1.01s\tremaining: 12.2s\n",
            "77:\tlearn: 0.4158349\ttotal: 1.03s\tremaining: 12.2s\n",
            "78:\tlearn: 0.4151242\ttotal: 1.04s\tremaining: 12.2s\n",
            "79:\tlearn: 0.4144640\ttotal: 1.06s\tremaining: 12.2s\n",
            "80:\tlearn: 0.4137854\ttotal: 1.07s\tremaining: 12.1s\n",
            "81:\tlearn: 0.4132089\ttotal: 1.08s\tremaining: 12.1s\n",
            "82:\tlearn: 0.4124402\ttotal: 1.1s\tremaining: 12.1s\n",
            "83:\tlearn: 0.4121436\ttotal: 1.11s\tremaining: 12.1s\n",
            "84:\tlearn: 0.4116595\ttotal: 1.12s\tremaining: 12s\n",
            "85:\tlearn: 0.4111734\ttotal: 1.13s\tremaining: 12s\n",
            "86:\tlearn: 0.4104189\ttotal: 1.14s\tremaining: 12s\n",
            "87:\tlearn: 0.4098534\ttotal: 1.16s\tremaining: 12s\n",
            "88:\tlearn: 0.4094537\ttotal: 1.17s\tremaining: 12s\n",
            "89:\tlearn: 0.4090650\ttotal: 1.18s\tremaining: 11.9s\n",
            "90:\tlearn: 0.4084436\ttotal: 1.19s\tremaining: 11.9s\n",
            "91:\tlearn: 0.4079478\ttotal: 1.2s\tremaining: 11.9s\n",
            "92:\tlearn: 0.4074267\ttotal: 1.22s\tremaining: 11.9s\n",
            "93:\tlearn: 0.4069030\ttotal: 1.24s\tremaining: 11.9s\n",
            "94:\tlearn: 0.4064826\ttotal: 1.25s\tremaining: 11.9s\n",
            "95:\tlearn: 0.4059903\ttotal: 1.26s\tremaining: 11.9s\n",
            "96:\tlearn: 0.4055576\ttotal: 1.28s\tremaining: 11.9s\n",
            "97:\tlearn: 0.4052143\ttotal: 1.29s\tremaining: 11.9s\n",
            "98:\tlearn: 0.4048504\ttotal: 1.3s\tremaining: 11.9s\n",
            "99:\tlearn: 0.4044955\ttotal: 1.32s\tremaining: 11.9s\n",
            "100:\tlearn: 0.4041572\ttotal: 1.32s\tremaining: 11.8s\n",
            "101:\tlearn: 0.4036933\ttotal: 1.34s\tremaining: 11.8s\n",
            "102:\tlearn: 0.4034201\ttotal: 1.35s\tremaining: 11.8s\n",
            "103:\tlearn: 0.4029914\ttotal: 1.36s\tremaining: 11.8s\n",
            "104:\tlearn: 0.4025406\ttotal: 1.38s\tremaining: 11.7s\n",
            "105:\tlearn: 0.4021673\ttotal: 1.39s\tremaining: 11.7s\n",
            "106:\tlearn: 0.4019185\ttotal: 1.39s\tremaining: 11.6s\n",
            "107:\tlearn: 0.4014553\ttotal: 1.41s\tremaining: 11.6s\n",
            "108:\tlearn: 0.4011663\ttotal: 1.42s\tremaining: 11.6s\n",
            "109:\tlearn: 0.4007465\ttotal: 1.43s\tremaining: 11.6s\n",
            "110:\tlearn: 0.4006473\ttotal: 1.44s\tremaining: 11.5s\n",
            "111:\tlearn: 0.4002372\ttotal: 1.46s\tremaining: 11.6s\n",
            "112:\tlearn: 0.3999561\ttotal: 1.47s\tremaining: 11.5s\n",
            "113:\tlearn: 0.3998969\ttotal: 1.48s\tremaining: 11.5s\n",
            "114:\tlearn: 0.3995899\ttotal: 1.49s\tremaining: 11.5s\n",
            "115:\tlearn: 0.3993266\ttotal: 1.5s\tremaining: 11.4s\n",
            "116:\tlearn: 0.3987559\ttotal: 1.51s\tremaining: 11.4s\n",
            "117:\tlearn: 0.3984634\ttotal: 1.53s\tremaining: 11.4s\n",
            "118:\tlearn: 0.3981877\ttotal: 1.54s\tremaining: 11.4s\n",
            "119:\tlearn: 0.3979189\ttotal: 1.56s\tremaining: 11.5s\n",
            "120:\tlearn: 0.3975654\ttotal: 1.58s\tremaining: 11.5s\n",
            "121:\tlearn: 0.3973599\ttotal: 1.59s\tremaining: 11.5s\n",
            "122:\tlearn: 0.3970661\ttotal: 1.6s\tremaining: 11.4s\n",
            "123:\tlearn: 0.3967680\ttotal: 1.62s\tremaining: 11.4s\n",
            "124:\tlearn: 0.3964124\ttotal: 1.63s\tremaining: 11.4s\n",
            "125:\tlearn: 0.3961233\ttotal: 1.65s\tremaining: 11.4s\n",
            "126:\tlearn: 0.3958824\ttotal: 1.66s\tremaining: 11.4s\n",
            "127:\tlearn: 0.3956276\ttotal: 1.68s\tremaining: 11.4s\n",
            "128:\tlearn: 0.3954653\ttotal: 1.69s\tremaining: 11.4s\n",
            "129:\tlearn: 0.3953100\ttotal: 1.7s\tremaining: 11.4s\n",
            "130:\tlearn: 0.3952204\ttotal: 1.71s\tremaining: 11.3s\n",
            "131:\tlearn: 0.3948387\ttotal: 1.72s\tremaining: 11.3s\n",
            "132:\tlearn: 0.3948141\ttotal: 1.73s\tremaining: 11.3s\n",
            "133:\tlearn: 0.3946436\ttotal: 1.74s\tremaining: 11.3s\n",
            "134:\tlearn: 0.3942356\ttotal: 1.75s\tremaining: 11.2s\n",
            "135:\tlearn: 0.3939646\ttotal: 1.77s\tremaining: 11.2s\n",
            "136:\tlearn: 0.3938608\ttotal: 1.78s\tremaining: 11.2s\n",
            "137:\tlearn: 0.3935488\ttotal: 1.79s\tremaining: 11.2s\n",
            "138:\tlearn: 0.3931115\ttotal: 1.81s\tremaining: 11.2s\n",
            "139:\tlearn: 0.3929114\ttotal: 1.82s\tremaining: 11.2s\n",
            "140:\tlearn: 0.3928196\ttotal: 1.83s\tremaining: 11.1s\n",
            "141:\tlearn: 0.3926404\ttotal: 1.84s\tremaining: 11.1s\n",
            "142:\tlearn: 0.3923795\ttotal: 1.86s\tremaining: 11.1s\n",
            "143:\tlearn: 0.3923659\ttotal: 1.86s\tremaining: 11.1s\n",
            "144:\tlearn: 0.3922238\ttotal: 1.87s\tremaining: 11s\n",
            "145:\tlearn: 0.3920481\ttotal: 1.89s\tremaining: 11.1s\n",
            "146:\tlearn: 0.3920020\ttotal: 1.9s\tremaining: 11s\n",
            "147:\tlearn: 0.3916573\ttotal: 1.91s\tremaining: 11s\n",
            "148:\tlearn: 0.3914445\ttotal: 1.92s\tremaining: 11s\n",
            "149:\tlearn: 0.3912161\ttotal: 1.94s\tremaining: 11s\n",
            "150:\tlearn: 0.3911568\ttotal: 1.94s\tremaining: 10.9s\n",
            "151:\tlearn: 0.3909340\ttotal: 1.95s\tremaining: 10.9s\n",
            "152:\tlearn: 0.3907592\ttotal: 1.97s\tremaining: 10.9s\n",
            "153:\tlearn: 0.3904782\ttotal: 1.98s\tremaining: 10.9s\n",
            "154:\tlearn: 0.3902081\ttotal: 1.99s\tremaining: 10.9s\n",
            "155:\tlearn: 0.3899933\ttotal: 2.01s\tremaining: 10.9s\n",
            "156:\tlearn: 0.3898444\ttotal: 2.01s\tremaining: 10.8s\n",
            "157:\tlearn: 0.3897483\ttotal: 2.03s\tremaining: 10.8s\n",
            "158:\tlearn: 0.3896701\ttotal: 2.03s\tremaining: 10.8s\n",
            "159:\tlearn: 0.3896264\ttotal: 2.04s\tremaining: 10.7s\n",
            "160:\tlearn: 0.3894686\ttotal: 2.06s\tremaining: 10.7s\n",
            "161:\tlearn: 0.3894201\ttotal: 2.06s\tremaining: 10.7s\n",
            "162:\tlearn: 0.3894030\ttotal: 2.06s\tremaining: 10.6s\n",
            "163:\tlearn: 0.3892766\ttotal: 2.08s\tremaining: 10.6s\n",
            "164:\tlearn: 0.3891572\ttotal: 2.09s\tremaining: 10.6s\n",
            "165:\tlearn: 0.3888679\ttotal: 2.1s\tremaining: 10.6s\n",
            "166:\tlearn: 0.3886342\ttotal: 2.12s\tremaining: 10.6s\n",
            "167:\tlearn: 0.3884733\ttotal: 2.13s\tremaining: 10.5s\n",
            "168:\tlearn: 0.3883674\ttotal: 2.14s\tremaining: 10.5s\n",
            "169:\tlearn: 0.3882153\ttotal: 2.16s\tremaining: 10.5s\n",
            "170:\tlearn: 0.3879833\ttotal: 2.17s\tremaining: 10.5s\n",
            "171:\tlearn: 0.3878007\ttotal: 2.18s\tremaining: 10.5s\n",
            "172:\tlearn: 0.3878002\ttotal: 2.19s\tremaining: 10.4s\n",
            "173:\tlearn: 0.3876802\ttotal: 2.2s\tremaining: 10.4s\n",
            "174:\tlearn: 0.3876706\ttotal: 2.21s\tremaining: 10.4s\n",
            "175:\tlearn: 0.3874036\ttotal: 2.22s\tremaining: 10.4s\n",
            "176:\tlearn: 0.3873755\ttotal: 2.23s\tremaining: 10.3s\n",
            "177:\tlearn: 0.3873591\ttotal: 2.24s\tremaining: 10.3s\n",
            "178:\tlearn: 0.3873043\ttotal: 2.25s\tremaining: 10.3s\n",
            "179:\tlearn: 0.3871391\ttotal: 2.27s\tremaining: 10.3s\n",
            "180:\tlearn: 0.3869335\ttotal: 2.28s\tremaining: 10.3s\n",
            "181:\tlearn: 0.3866917\ttotal: 2.29s\tremaining: 10.3s\n",
            "182:\tlearn: 0.3864635\ttotal: 2.31s\tremaining: 10.3s\n",
            "183:\tlearn: 0.3862606\ttotal: 2.32s\tremaining: 10.3s\n",
            "184:\tlearn: 0.3862287\ttotal: 2.33s\tremaining: 10.2s\n",
            "185:\tlearn: 0.3861306\ttotal: 2.34s\tremaining: 10.2s\n",
            "186:\tlearn: 0.3858783\ttotal: 2.35s\tremaining: 10.2s\n",
            "187:\tlearn: 0.3858598\ttotal: 2.36s\tremaining: 10.2s\n",
            "188:\tlearn: 0.3857404\ttotal: 2.37s\tremaining: 10.2s\n",
            "189:\tlearn: 0.3855589\ttotal: 2.38s\tremaining: 10.2s\n",
            "190:\tlearn: 0.3855123\ttotal: 2.4s\tremaining: 10.2s\n",
            "191:\tlearn: 0.3854566\ttotal: 2.41s\tremaining: 10.1s\n",
            "192:\tlearn: 0.3852476\ttotal: 2.42s\tremaining: 10.1s\n",
            "193:\tlearn: 0.3851183\ttotal: 2.44s\tremaining: 10.1s\n",
            "194:\tlearn: 0.3849714\ttotal: 2.45s\tremaining: 10.1s\n",
            "195:\tlearn: 0.3846666\ttotal: 2.46s\tremaining: 10.1s\n",
            "196:\tlearn: 0.3845035\ttotal: 2.48s\tremaining: 10.1s\n",
            "197:\tlearn: 0.3844705\ttotal: 2.49s\tremaining: 10.1s\n",
            "198:\tlearn: 0.3844082\ttotal: 2.5s\tremaining: 10.1s\n",
            "199:\tlearn: 0.3842856\ttotal: 2.52s\tremaining: 10.1s\n",
            "200:\tlearn: 0.3841606\ttotal: 2.54s\tremaining: 10.1s\n",
            "201:\tlearn: 0.3839515\ttotal: 2.55s\tremaining: 10.1s\n",
            "202:\tlearn: 0.3838091\ttotal: 2.56s\tremaining: 10.1s\n",
            "203:\tlearn: 0.3837231\ttotal: 2.57s\tremaining: 10s\n",
            "204:\tlearn: 0.3835067\ttotal: 2.59s\tremaining: 10s\n",
            "205:\tlearn: 0.3833851\ttotal: 2.6s\tremaining: 10s\n",
            "206:\tlearn: 0.3833111\ttotal: 2.61s\tremaining: 10s\n",
            "207:\tlearn: 0.3831473\ttotal: 2.63s\tremaining: 9.99s\n",
            "208:\tlearn: 0.3830204\ttotal: 2.64s\tremaining: 9.98s\n",
            "209:\tlearn: 0.3828937\ttotal: 2.66s\tremaining: 9.99s\n",
            "210:\tlearn: 0.3828153\ttotal: 2.67s\tremaining: 9.98s\n",
            "211:\tlearn: 0.3828153\ttotal: 2.67s\tremaining: 9.93s\n",
            "212:\tlearn: 0.3827247\ttotal: 2.69s\tremaining: 9.92s\n",
            "213:\tlearn: 0.3824727\ttotal: 2.7s\tremaining: 9.92s\n",
            "214:\tlearn: 0.3823481\ttotal: 2.71s\tremaining: 9.91s\n",
            "215:\tlearn: 0.3823028\ttotal: 2.73s\tremaining: 9.9s\n",
            "216:\tlearn: 0.3822969\ttotal: 2.74s\tremaining: 9.87s\n",
            "217:\tlearn: 0.3822744\ttotal: 2.74s\tremaining: 9.83s\n",
            "218:\tlearn: 0.3820359\ttotal: 2.75s\tremaining: 9.83s\n",
            "219:\tlearn: 0.3820087\ttotal: 2.77s\tremaining: 9.81s\n",
            "220:\tlearn: 0.3818789\ttotal: 2.78s\tremaining: 9.8s\n",
            "221:\tlearn: 0.3817317\ttotal: 2.79s\tremaining: 9.79s\n",
            "222:\tlearn: 0.3815952\ttotal: 2.81s\tremaining: 9.78s\n",
            "223:\tlearn: 0.3815917\ttotal: 2.81s\tremaining: 9.76s\n",
            "224:\tlearn: 0.3814536\ttotal: 2.83s\tremaining: 9.74s\n",
            "225:\tlearn: 0.3812431\ttotal: 2.84s\tremaining: 9.73s\n",
            "226:\tlearn: 0.3810376\ttotal: 2.85s\tremaining: 9.72s\n",
            "227:\tlearn: 0.3809902\ttotal: 2.86s\tremaining: 9.69s\n",
            "228:\tlearn: 0.3809673\ttotal: 2.88s\tremaining: 9.69s\n",
            "229:\tlearn: 0.3808937\ttotal: 2.89s\tremaining: 9.68s\n",
            "230:\tlearn: 0.3808890\ttotal: 2.9s\tremaining: 9.64s\n",
            "231:\tlearn: 0.3808890\ttotal: 2.9s\tremaining: 9.6s\n",
            "232:\tlearn: 0.3807558\ttotal: 2.91s\tremaining: 9.58s\n",
            "233:\tlearn: 0.3807378\ttotal: 2.92s\tremaining: 9.57s\n",
            "234:\tlearn: 0.3806194\ttotal: 2.94s\tremaining: 9.56s\n",
            "235:\tlearn: 0.3804406\ttotal: 2.95s\tremaining: 9.55s\n",
            "236:\tlearn: 0.3803799\ttotal: 2.96s\tremaining: 9.53s\n",
            "237:\tlearn: 0.3803330\ttotal: 2.97s\tremaining: 9.52s\n",
            "238:\tlearn: 0.3802994\ttotal: 2.98s\tremaining: 9.49s\n",
            "239:\tlearn: 0.3802530\ttotal: 2.99s\tremaining: 9.48s\n",
            "240:\tlearn: 0.3801753\ttotal: 3.01s\tremaining: 9.47s\n",
            "241:\tlearn: 0.3800969\ttotal: 3.02s\tremaining: 9.46s\n",
            "242:\tlearn: 0.3800179\ttotal: 3.03s\tremaining: 9.45s\n",
            "243:\tlearn: 0.3799649\ttotal: 3.04s\tremaining: 9.41s\n",
            "244:\tlearn: 0.3799552\ttotal: 3.04s\tremaining: 9.38s\n",
            "245:\tlearn: 0.3799508\ttotal: 3.05s\tremaining: 9.36s\n",
            "246:\tlearn: 0.3798295\ttotal: 3.07s\tremaining: 9.35s\n",
            "247:\tlearn: 0.3796788\ttotal: 3.08s\tremaining: 9.34s\n",
            "248:\tlearn: 0.3795848\ttotal: 3.1s\tremaining: 9.35s\n",
            "249:\tlearn: 0.3795786\ttotal: 3.1s\tremaining: 9.32s\n",
            "250:\tlearn: 0.3795556\ttotal: 3.11s\tremaining: 9.28s\n",
            "251:\tlearn: 0.3794300\ttotal: 3.12s\tremaining: 9.27s\n",
            "252:\tlearn: 0.3792911\ttotal: 3.14s\tremaining: 9.26s\n",
            "253:\tlearn: 0.3792529\ttotal: 3.14s\tremaining: 9.23s\n",
            "254:\tlearn: 0.3791851\ttotal: 3.15s\tremaining: 9.21s\n",
            "255:\tlearn: 0.3790043\ttotal: 3.16s\tremaining: 9.2s\n",
            "256:\tlearn: 0.3788939\ttotal: 3.18s\tremaining: 9.19s\n",
            "257:\tlearn: 0.3788462\ttotal: 3.19s\tremaining: 9.18s\n",
            "258:\tlearn: 0.3788456\ttotal: 3.19s\tremaining: 9.14s\n",
            "259:\tlearn: 0.3788366\ttotal: 3.2s\tremaining: 9.1s\n",
            "260:\tlearn: 0.3786450\ttotal: 3.21s\tremaining: 9.1s\n",
            "261:\tlearn: 0.3786084\ttotal: 3.23s\tremaining: 9.09s\n",
            "262:\tlearn: 0.3784881\ttotal: 3.24s\tremaining: 9.07s\n",
            "263:\tlearn: 0.3784490\ttotal: 3.25s\tremaining: 9.06s\n",
            "264:\tlearn: 0.3782324\ttotal: 3.27s\tremaining: 9.06s\n",
            "265:\tlearn: 0.3781251\ttotal: 3.28s\tremaining: 9.05s\n",
            "266:\tlearn: 0.3781128\ttotal: 3.28s\tremaining: 9.01s\n",
            "267:\tlearn: 0.3781125\ttotal: 3.29s\tremaining: 8.98s\n",
            "268:\tlearn: 0.3781125\ttotal: 3.29s\tremaining: 8.94s\n",
            "269:\tlearn: 0.3779493\ttotal: 3.31s\tremaining: 8.95s\n",
            "270:\tlearn: 0.3778061\ttotal: 3.32s\tremaining: 8.93s\n",
            "271:\tlearn: 0.3778051\ttotal: 3.32s\tremaining: 8.9s\n",
            "272:\tlearn: 0.3776758\ttotal: 3.34s\tremaining: 8.9s\n",
            "273:\tlearn: 0.3776044\ttotal: 3.36s\tremaining: 8.89s\n",
            "274:\tlearn: 0.3776027\ttotal: 3.37s\tremaining: 8.88s\n",
            "275:\tlearn: 0.3775640\ttotal: 3.38s\tremaining: 8.86s\n",
            "276:\tlearn: 0.3772321\ttotal: 3.39s\tremaining: 8.86s\n",
            "277:\tlearn: 0.3771760\ttotal: 3.4s\tremaining: 8.84s\n",
            "278:\tlearn: 0.3771757\ttotal: 3.41s\tremaining: 8.81s\n",
            "279:\tlearn: 0.3771392\ttotal: 3.42s\tremaining: 8.8s\n",
            "280:\tlearn: 0.3771233\ttotal: 3.43s\tremaining: 8.78s\n",
            "281:\tlearn: 0.3770876\ttotal: 3.44s\tremaining: 8.76s\n",
            "282:\tlearn: 0.3770253\ttotal: 3.45s\tremaining: 8.74s\n",
            "283:\tlearn: 0.3769567\ttotal: 3.46s\tremaining: 8.74s\n",
            "284:\tlearn: 0.3767957\ttotal: 3.48s\tremaining: 8.73s\n",
            "285:\tlearn: 0.3766846\ttotal: 3.49s\tremaining: 8.72s\n",
            "286:\tlearn: 0.3765980\ttotal: 3.5s\tremaining: 8.71s\n",
            "287:\tlearn: 0.3763921\ttotal: 3.52s\tremaining: 8.71s\n",
            "288:\tlearn: 0.3762428\ttotal: 3.54s\tremaining: 8.7s\n",
            "289:\tlearn: 0.3761735\ttotal: 3.55s\tremaining: 8.69s\n",
            "290:\tlearn: 0.3761723\ttotal: 3.56s\tremaining: 8.67s\n",
            "291:\tlearn: 0.3761723\ttotal: 3.56s\tremaining: 8.63s\n",
            "292:\tlearn: 0.3759938\ttotal: 3.57s\tremaining: 8.62s\n",
            "293:\tlearn: 0.3759402\ttotal: 3.59s\tremaining: 8.61s\n",
            "294:\tlearn: 0.3759369\ttotal: 3.59s\tremaining: 8.58s\n",
            "295:\tlearn: 0.3758592\ttotal: 3.6s\tremaining: 8.57s\n",
            "296:\tlearn: 0.3758320\ttotal: 3.61s\tremaining: 8.55s\n",
            "297:\tlearn: 0.3757573\ttotal: 3.62s\tremaining: 8.54s\n",
            "298:\tlearn: 0.3757451\ttotal: 3.63s\tremaining: 8.52s\n",
            "299:\tlearn: 0.3756910\ttotal: 3.65s\tremaining: 8.51s\n",
            "300:\tlearn: 0.3756089\ttotal: 3.66s\tremaining: 8.5s\n",
            "301:\tlearn: 0.3756019\ttotal: 3.67s\tremaining: 8.47s\n",
            "302:\tlearn: 0.3756009\ttotal: 3.67s\tremaining: 8.44s\n",
            "303:\tlearn: 0.3755746\ttotal: 3.68s\tremaining: 8.43s\n",
            "304:\tlearn: 0.3755736\ttotal: 3.69s\tremaining: 8.4s\n",
            "305:\tlearn: 0.3753361\ttotal: 3.7s\tremaining: 8.4s\n",
            "306:\tlearn: 0.3752435\ttotal: 3.73s\tremaining: 8.41s\n",
            "307:\tlearn: 0.3750781\ttotal: 3.76s\tremaining: 8.45s\n",
            "308:\tlearn: 0.3750475\ttotal: 3.77s\tremaining: 8.44s\n",
            "309:\tlearn: 0.3748702\ttotal: 3.79s\tremaining: 8.44s\n",
            "310:\tlearn: 0.3747857\ttotal: 3.8s\tremaining: 8.41s\n",
            "311:\tlearn: 0.3746464\ttotal: 3.81s\tremaining: 8.4s\n",
            "312:\tlearn: 0.3746027\ttotal: 3.82s\tremaining: 8.39s\n",
            "313:\tlearn: 0.3745174\ttotal: 3.84s\tremaining: 8.38s\n",
            "314:\tlearn: 0.3745133\ttotal: 3.84s\tremaining: 8.36s\n",
            "315:\tlearn: 0.3744816\ttotal: 3.86s\tremaining: 8.35s\n",
            "316:\tlearn: 0.3743728\ttotal: 3.87s\tremaining: 8.34s\n",
            "317:\tlearn: 0.3742461\ttotal: 3.88s\tremaining: 8.33s\n",
            "318:\tlearn: 0.3741357\ttotal: 3.9s\tremaining: 8.31s\n",
            "319:\tlearn: 0.3739843\ttotal: 3.91s\tremaining: 8.31s\n",
            "320:\tlearn: 0.3739811\ttotal: 3.92s\tremaining: 8.3s\n",
            "321:\tlearn: 0.3739244\ttotal: 3.94s\tremaining: 8.29s\n",
            "322:\tlearn: 0.3739160\ttotal: 3.94s\tremaining: 8.27s\n",
            "323:\tlearn: 0.3738912\ttotal: 3.96s\tremaining: 8.26s\n",
            "324:\tlearn: 0.3737396\ttotal: 3.97s\tremaining: 8.24s\n",
            "325:\tlearn: 0.3736754\ttotal: 3.98s\tremaining: 8.24s\n",
            "326:\tlearn: 0.3735485\ttotal: 4s\tremaining: 8.23s\n",
            "327:\tlearn: 0.3734980\ttotal: 4.01s\tremaining: 8.21s\n",
            "328:\tlearn: 0.3734832\ttotal: 4.02s\tremaining: 8.19s\n",
            "329:\tlearn: 0.3733538\ttotal: 4.03s\tremaining: 8.19s\n",
            "330:\tlearn: 0.3732754\ttotal: 4.05s\tremaining: 8.18s\n",
            "331:\tlearn: 0.3732342\ttotal: 4.06s\tremaining: 8.17s\n",
            "332:\tlearn: 0.3730373\ttotal: 4.07s\tremaining: 8.16s\n",
            "333:\tlearn: 0.3730239\ttotal: 4.09s\tremaining: 8.15s\n",
            "334:\tlearn: 0.3728094\ttotal: 4.1s\tremaining: 8.14s\n",
            "335:\tlearn: 0.3727191\ttotal: 4.12s\tremaining: 8.14s\n",
            "336:\tlearn: 0.3725564\ttotal: 4.13s\tremaining: 8.13s\n",
            "337:\tlearn: 0.3725012\ttotal: 4.14s\tremaining: 8.12s\n",
            "338:\tlearn: 0.3723967\ttotal: 4.16s\tremaining: 8.11s\n",
            "339:\tlearn: 0.3723952\ttotal: 4.16s\tremaining: 8.08s\n",
            "340:\tlearn: 0.3723505\ttotal: 4.18s\tremaining: 8.07s\n",
            "341:\tlearn: 0.3721993\ttotal: 4.19s\tremaining: 8.06s\n",
            "342:\tlearn: 0.3721464\ttotal: 4.2s\tremaining: 8.05s\n",
            "343:\tlearn: 0.3720769\ttotal: 4.22s\tremaining: 8.04s\n",
            "344:\tlearn: 0.3720496\ttotal: 4.23s\tremaining: 8.03s\n",
            "345:\tlearn: 0.3719755\ttotal: 4.25s\tremaining: 8.03s\n",
            "346:\tlearn: 0.3719437\ttotal: 4.26s\tremaining: 8.02s\n",
            "347:\tlearn: 0.3718225\ttotal: 4.28s\tremaining: 8.01s\n",
            "348:\tlearn: 0.3718059\ttotal: 4.28s\tremaining: 7.99s\n",
            "349:\tlearn: 0.3717976\ttotal: 4.29s\tremaining: 7.96s\n",
            "350:\tlearn: 0.3717123\ttotal: 4.3s\tremaining: 7.96s\n",
            "351:\tlearn: 0.3716542\ttotal: 4.32s\tremaining: 7.96s\n",
            "352:\tlearn: 0.3715574\ttotal: 4.34s\tremaining: 7.95s\n",
            "353:\tlearn: 0.3715236\ttotal: 4.35s\tremaining: 7.94s\n",
            "354:\tlearn: 0.3714740\ttotal: 4.36s\tremaining: 7.92s\n",
            "355:\tlearn: 0.3714300\ttotal: 4.37s\tremaining: 7.91s\n",
            "356:\tlearn: 0.3713255\ttotal: 4.39s\tremaining: 7.9s\n",
            "357:\tlearn: 0.3713253\ttotal: 4.39s\tremaining: 7.88s\n",
            "358:\tlearn: 0.3712343\ttotal: 4.41s\tremaining: 7.87s\n",
            "359:\tlearn: 0.3712134\ttotal: 4.42s\tremaining: 7.86s\n",
            "360:\tlearn: 0.3710488\ttotal: 4.43s\tremaining: 7.85s\n",
            "361:\tlearn: 0.3710475\ttotal: 4.44s\tremaining: 7.82s\n",
            "362:\tlearn: 0.3710470\ttotal: 4.45s\tremaining: 7.81s\n",
            "363:\tlearn: 0.3710400\ttotal: 4.46s\tremaining: 7.79s\n",
            "364:\tlearn: 0.3709650\ttotal: 4.47s\tremaining: 7.78s\n",
            "365:\tlearn: 0.3708619\ttotal: 4.49s\tremaining: 7.78s\n",
            "366:\tlearn: 0.3708619\ttotal: 4.49s\tremaining: 7.75s\n",
            "367:\tlearn: 0.3707520\ttotal: 4.51s\tremaining: 7.74s\n",
            "368:\tlearn: 0.3707518\ttotal: 4.51s\tremaining: 7.72s\n",
            "369:\tlearn: 0.3705534\ttotal: 4.53s\tremaining: 7.71s\n",
            "370:\tlearn: 0.3705531\ttotal: 4.54s\tremaining: 7.69s\n",
            "371:\tlearn: 0.3703008\ttotal: 4.55s\tremaining: 7.68s\n",
            "372:\tlearn: 0.3701771\ttotal: 4.56s\tremaining: 7.67s\n",
            "373:\tlearn: 0.3701712\ttotal: 4.57s\tremaining: 7.65s\n",
            "374:\tlearn: 0.3701529\ttotal: 4.58s\tremaining: 7.63s\n",
            "375:\tlearn: 0.3701529\ttotal: 4.58s\tremaining: 7.6s\n",
            "376:\tlearn: 0.3700702\ttotal: 4.59s\tremaining: 7.59s\n",
            "377:\tlearn: 0.3699832\ttotal: 4.61s\tremaining: 7.58s\n",
            "378:\tlearn: 0.3699377\ttotal: 4.62s\tremaining: 7.57s\n",
            "379:\tlearn: 0.3698791\ttotal: 4.63s\tremaining: 7.56s\n",
            "380:\tlearn: 0.3697313\ttotal: 4.65s\tremaining: 7.55s\n",
            "381:\tlearn: 0.3694964\ttotal: 4.66s\tremaining: 7.54s\n",
            "382:\tlearn: 0.3692354\ttotal: 4.67s\tremaining: 7.53s\n",
            "383:\tlearn: 0.3692185\ttotal: 4.69s\tremaining: 7.52s\n",
            "384:\tlearn: 0.3690472\ttotal: 4.7s\tremaining: 7.51s\n",
            "385:\tlearn: 0.3689842\ttotal: 4.72s\tremaining: 7.51s\n",
            "386:\tlearn: 0.3688187\ttotal: 4.74s\tremaining: 7.5s\n",
            "387:\tlearn: 0.3688035\ttotal: 4.75s\tremaining: 7.49s\n",
            "388:\tlearn: 0.3686128\ttotal: 4.76s\tremaining: 7.48s\n",
            "389:\tlearn: 0.3683989\ttotal: 4.77s\tremaining: 7.46s\n",
            "390:\tlearn: 0.3682493\ttotal: 4.79s\tremaining: 7.45s\n",
            "391:\tlearn: 0.3681944\ttotal: 4.8s\tremaining: 7.45s\n",
            "392:\tlearn: 0.3681697\ttotal: 4.81s\tremaining: 7.43s\n",
            "393:\tlearn: 0.3681202\ttotal: 4.83s\tremaining: 7.42s\n",
            "394:\tlearn: 0.3680328\ttotal: 4.84s\tremaining: 7.41s\n",
            "395:\tlearn: 0.3679301\ttotal: 4.85s\tremaining: 7.4s\n",
            "396:\tlearn: 0.3678454\ttotal: 4.87s\tremaining: 7.39s\n",
            "397:\tlearn: 0.3677155\ttotal: 4.88s\tremaining: 7.38s\n",
            "398:\tlearn: 0.3675551\ttotal: 4.89s\tremaining: 7.37s\n",
            "399:\tlearn: 0.3675047\ttotal: 4.91s\tremaining: 7.36s\n",
            "400:\tlearn: 0.3673890\ttotal: 4.93s\tremaining: 7.36s\n",
            "401:\tlearn: 0.3673525\ttotal: 4.94s\tremaining: 7.35s\n",
            "402:\tlearn: 0.3673188\ttotal: 4.96s\tremaining: 7.34s\n",
            "403:\tlearn: 0.3671852\ttotal: 4.97s\tremaining: 7.33s\n",
            "404:\tlearn: 0.3671851\ttotal: 4.97s\tremaining: 7.31s\n",
            "405:\tlearn: 0.3670580\ttotal: 4.99s\tremaining: 7.3s\n",
            "406:\tlearn: 0.3669671\ttotal: 5s\tremaining: 7.29s\n",
            "407:\tlearn: 0.3669189\ttotal: 5.02s\tremaining: 7.28s\n",
            "408:\tlearn: 0.3668993\ttotal: 5.03s\tremaining: 7.27s\n",
            "409:\tlearn: 0.3668927\ttotal: 5.04s\tremaining: 7.25s\n",
            "410:\tlearn: 0.3668901\ttotal: 5.05s\tremaining: 7.23s\n",
            "411:\tlearn: 0.3667594\ttotal: 5.06s\tremaining: 7.22s\n",
            "412:\tlearn: 0.3666613\ttotal: 5.08s\tremaining: 7.21s\n",
            "413:\tlearn: 0.3665226\ttotal: 5.09s\tremaining: 7.2s\n",
            "414:\tlearn: 0.3663768\ttotal: 5.1s\tremaining: 7.19s\n",
            "415:\tlearn: 0.3663745\ttotal: 5.11s\tremaining: 7.17s\n",
            "416:\tlearn: 0.3663147\ttotal: 5.12s\tremaining: 7.16s\n",
            "417:\tlearn: 0.3662016\ttotal: 5.14s\tremaining: 7.16s\n",
            "418:\tlearn: 0.3661556\ttotal: 5.16s\tremaining: 7.15s\n",
            "419:\tlearn: 0.3660116\ttotal: 5.17s\tremaining: 7.14s\n",
            "420:\tlearn: 0.3658905\ttotal: 5.19s\tremaining: 7.13s\n",
            "421:\tlearn: 0.3658628\ttotal: 5.2s\tremaining: 7.12s\n",
            "422:\tlearn: 0.3658565\ttotal: 5.21s\tremaining: 7.1s\n",
            "423:\tlearn: 0.3657557\ttotal: 5.22s\tremaining: 7.09s\n",
            "424:\tlearn: 0.3656307\ttotal: 5.23s\tremaining: 7.08s\n",
            "425:\tlearn: 0.3656088\ttotal: 5.25s\tremaining: 7.07s\n",
            "426:\tlearn: 0.3655149\ttotal: 5.26s\tremaining: 7.06s\n",
            "427:\tlearn: 0.3652854\ttotal: 5.27s\tremaining: 7.05s\n",
            "428:\tlearn: 0.3651004\ttotal: 5.29s\tremaining: 7.04s\n",
            "429:\tlearn: 0.3650217\ttotal: 5.3s\tremaining: 7.03s\n",
            "430:\tlearn: 0.3650054\ttotal: 5.31s\tremaining: 7.01s\n",
            "431:\tlearn: 0.3648689\ttotal: 5.32s\tremaining: 7s\n",
            "432:\tlearn: 0.3647723\ttotal: 5.34s\tremaining: 6.99s\n",
            "433:\tlearn: 0.3647663\ttotal: 5.34s\tremaining: 6.97s\n",
            "434:\tlearn: 0.3647605\ttotal: 5.35s\tremaining: 6.95s\n",
            "435:\tlearn: 0.3645256\ttotal: 5.36s\tremaining: 6.94s\n",
            "436:\tlearn: 0.3643913\ttotal: 5.38s\tremaining: 6.93s\n",
            "437:\tlearn: 0.3643279\ttotal: 5.39s\tremaining: 6.92s\n",
            "438:\tlearn: 0.3641333\ttotal: 5.4s\tremaining: 6.91s\n",
            "439:\tlearn: 0.3639381\ttotal: 5.42s\tremaining: 6.89s\n",
            "440:\tlearn: 0.3638643\ttotal: 5.43s\tremaining: 6.88s\n",
            "441:\tlearn: 0.3638393\ttotal: 5.44s\tremaining: 6.87s\n",
            "442:\tlearn: 0.3637011\ttotal: 5.45s\tremaining: 6.86s\n",
            "443:\tlearn: 0.3635011\ttotal: 5.47s\tremaining: 6.84s\n",
            "444:\tlearn: 0.3634213\ttotal: 5.49s\tremaining: 6.84s\n",
            "445:\tlearn: 0.3632373\ttotal: 5.5s\tremaining: 6.84s\n",
            "446:\tlearn: 0.3630529\ttotal: 5.52s\tremaining: 6.83s\n",
            "447:\tlearn: 0.3629371\ttotal: 5.53s\tremaining: 6.82s\n",
            "448:\tlearn: 0.3628734\ttotal: 5.55s\tremaining: 6.81s\n",
            "449:\tlearn: 0.3628545\ttotal: 5.56s\tremaining: 6.8s\n",
            "450:\tlearn: 0.3627567\ttotal: 5.58s\tremaining: 6.79s\n",
            "451:\tlearn: 0.3625505\ttotal: 5.59s\tremaining: 6.78s\n",
            "452:\tlearn: 0.3624237\ttotal: 5.6s\tremaining: 6.77s\n",
            "453:\tlearn: 0.3622852\ttotal: 5.62s\tremaining: 6.75s\n",
            "454:\tlearn: 0.3621172\ttotal: 5.63s\tremaining: 6.74s\n",
            "455:\tlearn: 0.3621117\ttotal: 5.63s\tremaining: 6.72s\n",
            "456:\tlearn: 0.3620534\ttotal: 5.65s\tremaining: 6.71s\n",
            "457:\tlearn: 0.3618833\ttotal: 5.66s\tremaining: 6.7s\n",
            "458:\tlearn: 0.3617455\ttotal: 5.67s\tremaining: 6.69s\n",
            "459:\tlearn: 0.3615951\ttotal: 5.69s\tremaining: 6.68s\n",
            "460:\tlearn: 0.3614186\ttotal: 5.7s\tremaining: 6.66s\n",
            "461:\tlearn: 0.3613624\ttotal: 5.72s\tremaining: 6.66s\n",
            "462:\tlearn: 0.3613194\ttotal: 5.73s\tremaining: 6.65s\n",
            "463:\tlearn: 0.3610873\ttotal: 5.74s\tremaining: 6.64s\n",
            "464:\tlearn: 0.3610477\ttotal: 5.76s\tremaining: 6.63s\n",
            "465:\tlearn: 0.3609081\ttotal: 5.77s\tremaining: 6.62s\n",
            "466:\tlearn: 0.3608599\ttotal: 5.79s\tremaining: 6.6s\n",
            "467:\tlearn: 0.3606604\ttotal: 5.8s\tremaining: 6.59s\n",
            "468:\tlearn: 0.3604426\ttotal: 5.81s\tremaining: 6.58s\n",
            "469:\tlearn: 0.3603680\ttotal: 5.83s\tremaining: 6.57s\n",
            "470:\tlearn: 0.3601622\ttotal: 5.84s\tremaining: 6.56s\n",
            "471:\tlearn: 0.3600413\ttotal: 5.86s\tremaining: 6.55s\n",
            "472:\tlearn: 0.3600043\ttotal: 5.87s\tremaining: 6.54s\n",
            "473:\tlearn: 0.3600042\ttotal: 5.87s\tremaining: 6.51s\n",
            "474:\tlearn: 0.3599004\ttotal: 5.88s\tremaining: 6.5s\n",
            "475:\tlearn: 0.3598566\ttotal: 5.9s\tremaining: 6.49s\n",
            "476:\tlearn: 0.3595262\ttotal: 5.91s\tremaining: 6.48s\n",
            "477:\tlearn: 0.3594159\ttotal: 5.92s\tremaining: 6.47s\n",
            "478:\tlearn: 0.3593201\ttotal: 5.94s\tremaining: 6.46s\n",
            "479:\tlearn: 0.3592588\ttotal: 5.95s\tremaining: 6.45s\n",
            "480:\tlearn: 0.3592163\ttotal: 5.97s\tremaining: 6.44s\n",
            "481:\tlearn: 0.3591139\ttotal: 5.99s\tremaining: 6.43s\n",
            "482:\tlearn: 0.3589246\ttotal: 6s\tremaining: 6.42s\n",
            "483:\tlearn: 0.3588154\ttotal: 6.01s\tremaining: 6.41s\n",
            "484:\tlearn: 0.3586982\ttotal: 6.03s\tremaining: 6.4s\n",
            "485:\tlearn: 0.3585530\ttotal: 6.04s\tremaining: 6.38s\n",
            "486:\tlearn: 0.3583223\ttotal: 6.05s\tremaining: 6.37s\n",
            "487:\tlearn: 0.3581556\ttotal: 6.07s\tremaining: 6.36s\n",
            "488:\tlearn: 0.3580290\ttotal: 6.08s\tremaining: 6.35s\n",
            "489:\tlearn: 0.3578665\ttotal: 6.09s\tremaining: 6.34s\n",
            "490:\tlearn: 0.3576795\ttotal: 6.1s\tremaining: 6.33s\n",
            "491:\tlearn: 0.3576531\ttotal: 6.12s\tremaining: 6.32s\n",
            "492:\tlearn: 0.3575974\ttotal: 6.13s\tremaining: 6.31s\n",
            "493:\tlearn: 0.3573659\ttotal: 6.15s\tremaining: 6.29s\n",
            "494:\tlearn: 0.3573008\ttotal: 6.16s\tremaining: 6.29s\n",
            "495:\tlearn: 0.3571448\ttotal: 6.18s\tremaining: 6.28s\n",
            "496:\tlearn: 0.3570744\ttotal: 6.2s\tremaining: 6.27s\n",
            "497:\tlearn: 0.3569443\ttotal: 6.21s\tremaining: 6.26s\n",
            "498:\tlearn: 0.3569074\ttotal: 6.23s\tremaining: 6.25s\n",
            "499:\tlearn: 0.3568648\ttotal: 6.24s\tremaining: 6.24s\n",
            "500:\tlearn: 0.3568328\ttotal: 6.25s\tremaining: 6.22s\n",
            "501:\tlearn: 0.3566875\ttotal: 6.26s\tremaining: 6.21s\n",
            "502:\tlearn: 0.3565992\ttotal: 6.28s\tremaining: 6.2s\n",
            "503:\tlearn: 0.3565116\ttotal: 6.29s\tremaining: 6.19s\n",
            "504:\tlearn: 0.3563565\ttotal: 6.3s\tremaining: 6.18s\n",
            "505:\tlearn: 0.3563492\ttotal: 6.32s\tremaining: 6.17s\n",
            "506:\tlearn: 0.3562508\ttotal: 6.33s\tremaining: 6.16s\n",
            "507:\tlearn: 0.3561802\ttotal: 6.35s\tremaining: 6.15s\n",
            "508:\tlearn: 0.3561754\ttotal: 6.35s\tremaining: 6.13s\n",
            "509:\tlearn: 0.3560655\ttotal: 6.36s\tremaining: 6.12s\n",
            "510:\tlearn: 0.3560227\ttotal: 6.38s\tremaining: 6.1s\n",
            "511:\tlearn: 0.3558538\ttotal: 6.39s\tremaining: 6.1s\n",
            "512:\tlearn: 0.3556728\ttotal: 6.41s\tremaining: 6.08s\n",
            "513:\tlearn: 0.3555847\ttotal: 6.43s\tremaining: 6.08s\n",
            "514:\tlearn: 0.3555137\ttotal: 6.44s\tremaining: 6.07s\n",
            "515:\tlearn: 0.3553841\ttotal: 6.46s\tremaining: 6.05s\n",
            "516:\tlearn: 0.3551884\ttotal: 6.47s\tremaining: 6.05s\n",
            "517:\tlearn: 0.3550160\ttotal: 6.49s\tremaining: 6.04s\n",
            "518:\tlearn: 0.3548483\ttotal: 6.5s\tremaining: 6.03s\n",
            "519:\tlearn: 0.3546139\ttotal: 6.52s\tremaining: 6.01s\n",
            "520:\tlearn: 0.3545691\ttotal: 6.53s\tremaining: 6s\n",
            "521:\tlearn: 0.3544582\ttotal: 6.54s\tremaining: 5.99s\n",
            "522:\tlearn: 0.3543330\ttotal: 6.55s\tremaining: 5.98s\n",
            "523:\tlearn: 0.3542873\ttotal: 6.57s\tremaining: 5.97s\n",
            "524:\tlearn: 0.3542368\ttotal: 6.58s\tremaining: 5.96s\n",
            "525:\tlearn: 0.3542309\ttotal: 6.6s\tremaining: 5.94s\n",
            "526:\tlearn: 0.3541521\ttotal: 6.61s\tremaining: 5.93s\n",
            "527:\tlearn: 0.3540495\ttotal: 6.62s\tremaining: 5.92s\n",
            "528:\tlearn: 0.3540057\ttotal: 6.64s\tremaining: 5.91s\n",
            "529:\tlearn: 0.3538328\ttotal: 6.65s\tremaining: 5.9s\n",
            "530:\tlearn: 0.3537918\ttotal: 6.67s\tremaining: 5.89s\n",
            "531:\tlearn: 0.3537479\ttotal: 6.68s\tremaining: 5.88s\n",
            "532:\tlearn: 0.3537333\ttotal: 6.7s\tremaining: 5.87s\n",
            "533:\tlearn: 0.3536677\ttotal: 6.71s\tremaining: 5.86s\n",
            "534:\tlearn: 0.3534568\ttotal: 6.72s\tremaining: 5.84s\n",
            "535:\tlearn: 0.3534483\ttotal: 6.74s\tremaining: 5.83s\n",
            "536:\tlearn: 0.3533147\ttotal: 6.75s\tremaining: 5.82s\n",
            "537:\tlearn: 0.3531181\ttotal: 6.76s\tremaining: 5.81s\n",
            "538:\tlearn: 0.3529745\ttotal: 6.78s\tremaining: 5.8s\n",
            "539:\tlearn: 0.3527962\ttotal: 6.79s\tremaining: 5.79s\n",
            "540:\tlearn: 0.3526242\ttotal: 6.81s\tremaining: 5.78s\n",
            "541:\tlearn: 0.3524934\ttotal: 6.82s\tremaining: 5.76s\n",
            "542:\tlearn: 0.3523325\ttotal: 6.83s\tremaining: 5.75s\n",
            "543:\tlearn: 0.3522613\ttotal: 6.85s\tremaining: 5.74s\n",
            "544:\tlearn: 0.3521134\ttotal: 6.87s\tremaining: 5.73s\n",
            "545:\tlearn: 0.3520093\ttotal: 6.88s\tremaining: 5.72s\n",
            "546:\tlearn: 0.3518616\ttotal: 6.89s\tremaining: 5.71s\n",
            "547:\tlearn: 0.3516590\ttotal: 6.91s\tremaining: 5.7s\n",
            "548:\tlearn: 0.3515831\ttotal: 6.92s\tremaining: 5.68s\n",
            "549:\tlearn: 0.3513904\ttotal: 6.93s\tremaining: 5.67s\n",
            "550:\tlearn: 0.3512196\ttotal: 6.95s\tremaining: 5.66s\n",
            "551:\tlearn: 0.3511540\ttotal: 6.96s\tremaining: 5.65s\n",
            "552:\tlearn: 0.3510725\ttotal: 6.97s\tremaining: 5.63s\n",
            "553:\tlearn: 0.3509199\ttotal: 6.99s\tremaining: 5.62s\n",
            "554:\tlearn: 0.3508262\ttotal: 7s\tremaining: 5.61s\n",
            "555:\tlearn: 0.3507318\ttotal: 7.01s\tremaining: 5.6s\n",
            "556:\tlearn: 0.3506213\ttotal: 7.03s\tremaining: 5.59s\n",
            "557:\tlearn: 0.3506016\ttotal: 7.04s\tremaining: 5.58s\n",
            "558:\tlearn: 0.3505108\ttotal: 7.05s\tremaining: 5.57s\n",
            "559:\tlearn: 0.3504704\ttotal: 7.07s\tremaining: 5.55s\n",
            "560:\tlearn: 0.3502434\ttotal: 7.08s\tremaining: 5.54s\n",
            "561:\tlearn: 0.3501017\ttotal: 7.1s\tremaining: 5.53s\n",
            "562:\tlearn: 0.3499830\ttotal: 7.11s\tremaining: 5.52s\n",
            "563:\tlearn: 0.3498912\ttotal: 7.12s\tremaining: 5.51s\n",
            "564:\tlearn: 0.3497518\ttotal: 7.14s\tremaining: 5.49s\n",
            "565:\tlearn: 0.3495880\ttotal: 7.15s\tremaining: 5.48s\n",
            "566:\tlearn: 0.3494330\ttotal: 7.17s\tremaining: 5.47s\n",
            "567:\tlearn: 0.3493111\ttotal: 7.18s\tremaining: 5.46s\n",
            "568:\tlearn: 0.3492002\ttotal: 7.19s\tremaining: 5.45s\n",
            "569:\tlearn: 0.3491303\ttotal: 7.21s\tremaining: 5.43s\n",
            "570:\tlearn: 0.3488946\ttotal: 7.22s\tremaining: 5.43s\n",
            "571:\tlearn: 0.3487163\ttotal: 7.24s\tremaining: 5.42s\n",
            "572:\tlearn: 0.3486669\ttotal: 7.25s\tremaining: 5.4s\n",
            "573:\tlearn: 0.3484823\ttotal: 7.26s\tremaining: 5.39s\n",
            "574:\tlearn: 0.3483637\ttotal: 7.28s\tremaining: 5.38s\n",
            "575:\tlearn: 0.3482264\ttotal: 7.29s\tremaining: 5.37s\n",
            "576:\tlearn: 0.3481355\ttotal: 7.3s\tremaining: 5.35s\n",
            "577:\tlearn: 0.3480040\ttotal: 7.32s\tremaining: 5.34s\n",
            "578:\tlearn: 0.3479618\ttotal: 7.33s\tremaining: 5.33s\n",
            "579:\tlearn: 0.3478589\ttotal: 7.34s\tremaining: 5.32s\n",
            "580:\tlearn: 0.3477691\ttotal: 7.36s\tremaining: 5.31s\n",
            "581:\tlearn: 0.3476621\ttotal: 7.37s\tremaining: 5.29s\n",
            "582:\tlearn: 0.3475598\ttotal: 7.38s\tremaining: 5.28s\n",
            "583:\tlearn: 0.3474742\ttotal: 7.4s\tremaining: 5.27s\n",
            "584:\tlearn: 0.3472862\ttotal: 7.41s\tremaining: 5.26s\n",
            "585:\tlearn: 0.3471724\ttotal: 7.43s\tremaining: 5.25s\n",
            "586:\tlearn: 0.3470970\ttotal: 7.45s\tremaining: 5.24s\n",
            "587:\tlearn: 0.3470050\ttotal: 7.46s\tremaining: 5.23s\n",
            "588:\tlearn: 0.3469542\ttotal: 7.48s\tremaining: 5.22s\n",
            "589:\tlearn: 0.3468083\ttotal: 7.49s\tremaining: 5.21s\n",
            "590:\tlearn: 0.3466709\ttotal: 7.51s\tremaining: 5.2s\n",
            "591:\tlearn: 0.3465677\ttotal: 7.52s\tremaining: 5.18s\n",
            "592:\tlearn: 0.3463892\ttotal: 7.54s\tremaining: 5.17s\n",
            "593:\tlearn: 0.3463507\ttotal: 7.55s\tremaining: 5.16s\n",
            "594:\tlearn: 0.3463046\ttotal: 7.56s\tremaining: 5.15s\n",
            "595:\tlearn: 0.3461744\ttotal: 7.58s\tremaining: 5.14s\n",
            "596:\tlearn: 0.3460913\ttotal: 7.59s\tremaining: 5.13s\n",
            "597:\tlearn: 0.3460636\ttotal: 7.61s\tremaining: 5.12s\n",
            "598:\tlearn: 0.3459450\ttotal: 7.62s\tremaining: 5.1s\n",
            "599:\tlearn: 0.3458984\ttotal: 7.64s\tremaining: 5.09s\n",
            "600:\tlearn: 0.3457527\ttotal: 7.65s\tremaining: 5.08s\n",
            "601:\tlearn: 0.3456141\ttotal: 7.66s\tremaining: 5.07s\n",
            "602:\tlearn: 0.3455431\ttotal: 7.68s\tremaining: 5.05s\n",
            "603:\tlearn: 0.3454177\ttotal: 7.69s\tremaining: 5.04s\n",
            "604:\tlearn: 0.3452809\ttotal: 7.7s\tremaining: 5.03s\n",
            "605:\tlearn: 0.3451664\ttotal: 7.72s\tremaining: 5.02s\n",
            "606:\tlearn: 0.3450552\ttotal: 7.73s\tremaining: 5.01s\n",
            "607:\tlearn: 0.3449885\ttotal: 7.75s\tremaining: 4.99s\n",
            "608:\tlearn: 0.3449318\ttotal: 7.76s\tremaining: 4.98s\n",
            "609:\tlearn: 0.3448322\ttotal: 7.78s\tremaining: 4.97s\n",
            "610:\tlearn: 0.3446709\ttotal: 7.79s\tremaining: 4.96s\n",
            "611:\tlearn: 0.3445261\ttotal: 7.8s\tremaining: 4.95s\n",
            "612:\tlearn: 0.3445077\ttotal: 7.82s\tremaining: 4.94s\n",
            "613:\tlearn: 0.3443869\ttotal: 7.84s\tremaining: 4.93s\n",
            "614:\tlearn: 0.3442905\ttotal: 7.85s\tremaining: 4.92s\n",
            "615:\tlearn: 0.3442002\ttotal: 7.87s\tremaining: 4.9s\n",
            "616:\tlearn: 0.3440720\ttotal: 7.88s\tremaining: 4.89s\n",
            "617:\tlearn: 0.3440484\ttotal: 7.89s\tremaining: 4.88s\n",
            "618:\tlearn: 0.3439413\ttotal: 7.9s\tremaining: 4.87s\n",
            "619:\tlearn: 0.3439099\ttotal: 7.92s\tremaining: 4.85s\n",
            "620:\tlearn: 0.3438335\ttotal: 7.93s\tremaining: 4.84s\n",
            "621:\tlearn: 0.3437780\ttotal: 7.95s\tremaining: 4.83s\n",
            "622:\tlearn: 0.3437443\ttotal: 7.96s\tremaining: 4.82s\n",
            "623:\tlearn: 0.3436639\ttotal: 7.97s\tremaining: 4.8s\n",
            "624:\tlearn: 0.3436047\ttotal: 7.99s\tremaining: 4.79s\n",
            "625:\tlearn: 0.3435260\ttotal: 8s\tremaining: 4.78s\n",
            "626:\tlearn: 0.3435231\ttotal: 8.01s\tremaining: 4.77s\n",
            "627:\tlearn: 0.3433348\ttotal: 8.03s\tremaining: 4.75s\n",
            "628:\tlearn: 0.3432501\ttotal: 8.04s\tremaining: 4.75s\n",
            "629:\tlearn: 0.3430881\ttotal: 8.06s\tremaining: 4.73s\n",
            "630:\tlearn: 0.3430143\ttotal: 8.07s\tremaining: 4.72s\n",
            "631:\tlearn: 0.3429559\ttotal: 8.09s\tremaining: 4.71s\n",
            "632:\tlearn: 0.3428458\ttotal: 8.1s\tremaining: 4.69s\n",
            "633:\tlearn: 0.3428236\ttotal: 8.11s\tremaining: 4.68s\n",
            "634:\tlearn: 0.3426295\ttotal: 8.13s\tremaining: 4.67s\n",
            "635:\tlearn: 0.3424754\ttotal: 8.14s\tremaining: 4.66s\n",
            "636:\tlearn: 0.3424369\ttotal: 8.15s\tremaining: 4.64s\n",
            "637:\tlearn: 0.3423308\ttotal: 8.18s\tremaining: 4.64s\n",
            "638:\tlearn: 0.3422881\ttotal: 8.2s\tremaining: 4.63s\n",
            "639:\tlearn: 0.3422155\ttotal: 8.21s\tremaining: 4.62s\n",
            "640:\tlearn: 0.3422121\ttotal: 8.22s\tremaining: 4.61s\n",
            "641:\tlearn: 0.3420937\ttotal: 8.23s\tremaining: 4.59s\n",
            "642:\tlearn: 0.3420749\ttotal: 8.25s\tremaining: 4.58s\n",
            "643:\tlearn: 0.3419725\ttotal: 8.27s\tremaining: 4.57s\n",
            "644:\tlearn: 0.3418789\ttotal: 8.29s\tremaining: 4.56s\n",
            "645:\tlearn: 0.3417796\ttotal: 8.3s\tremaining: 4.55s\n",
            "646:\tlearn: 0.3416706\ttotal: 8.32s\tremaining: 4.54s\n",
            "647:\tlearn: 0.3415254\ttotal: 8.34s\tremaining: 4.53s\n",
            "648:\tlearn: 0.3414249\ttotal: 8.35s\tremaining: 4.51s\n",
            "649:\tlearn: 0.3413482\ttotal: 8.36s\tremaining: 4.5s\n",
            "650:\tlearn: 0.3413150\ttotal: 8.38s\tremaining: 4.49s\n",
            "651:\tlearn: 0.3412231\ttotal: 8.39s\tremaining: 4.48s\n",
            "652:\tlearn: 0.3411155\ttotal: 8.4s\tremaining: 4.47s\n",
            "653:\tlearn: 0.3410078\ttotal: 8.42s\tremaining: 4.45s\n",
            "654:\tlearn: 0.3408859\ttotal: 8.43s\tremaining: 4.44s\n",
            "655:\tlearn: 0.3407687\ttotal: 8.46s\tremaining: 4.43s\n",
            "656:\tlearn: 0.3406822\ttotal: 8.48s\tremaining: 4.42s\n",
            "657:\tlearn: 0.3404562\ttotal: 8.49s\tremaining: 4.41s\n",
            "658:\tlearn: 0.3404160\ttotal: 8.5s\tremaining: 4.4s\n",
            "659:\tlearn: 0.3402538\ttotal: 8.52s\tremaining: 4.39s\n",
            "660:\tlearn: 0.3401736\ttotal: 8.53s\tremaining: 4.38s\n",
            "661:\tlearn: 0.3400461\ttotal: 8.55s\tremaining: 4.36s\n",
            "662:\tlearn: 0.3399206\ttotal: 8.56s\tremaining: 4.35s\n",
            "663:\tlearn: 0.3398097\ttotal: 8.57s\tremaining: 4.34s\n",
            "664:\tlearn: 0.3398096\ttotal: 8.58s\tremaining: 4.32s\n",
            "665:\tlearn: 0.3396917\ttotal: 8.59s\tremaining: 4.31s\n",
            "666:\tlearn: 0.3396861\ttotal: 8.61s\tremaining: 4.3s\n",
            "667:\tlearn: 0.3395033\ttotal: 8.62s\tremaining: 4.29s\n",
            "668:\tlearn: 0.3394443\ttotal: 8.64s\tremaining: 4.27s\n",
            "669:\tlearn: 0.3393422\ttotal: 8.65s\tremaining: 4.26s\n",
            "670:\tlearn: 0.3391934\ttotal: 8.66s\tremaining: 4.25s\n",
            "671:\tlearn: 0.3390958\ttotal: 8.68s\tremaining: 4.24s\n",
            "672:\tlearn: 0.3390083\ttotal: 8.69s\tremaining: 4.22s\n",
            "673:\tlearn: 0.3389149\ttotal: 8.72s\tremaining: 4.22s\n",
            "674:\tlearn: 0.3389071\ttotal: 8.74s\tremaining: 4.21s\n",
            "675:\tlearn: 0.3388379\ttotal: 8.76s\tremaining: 4.2s\n",
            "676:\tlearn: 0.3386786\ttotal: 8.77s\tremaining: 4.18s\n",
            "677:\tlearn: 0.3386043\ttotal: 8.78s\tremaining: 4.17s\n",
            "678:\tlearn: 0.3384877\ttotal: 8.8s\tremaining: 4.16s\n",
            "679:\tlearn: 0.3384627\ttotal: 8.81s\tremaining: 4.15s\n",
            "680:\tlearn: 0.3383855\ttotal: 8.83s\tremaining: 4.13s\n",
            "681:\tlearn: 0.3383603\ttotal: 8.84s\tremaining: 4.12s\n",
            "682:\tlearn: 0.3383162\ttotal: 8.85s\tremaining: 4.11s\n",
            "683:\tlearn: 0.3382011\ttotal: 8.87s\tremaining: 4.1s\n",
            "684:\tlearn: 0.3381200\ttotal: 8.88s\tremaining: 4.08s\n",
            "685:\tlearn: 0.3380749\ttotal: 8.9s\tremaining: 4.07s\n",
            "686:\tlearn: 0.3380514\ttotal: 8.91s\tremaining: 4.06s\n",
            "687:\tlearn: 0.3378637\ttotal: 8.92s\tremaining: 4.04s\n",
            "688:\tlearn: 0.3378425\ttotal: 8.93s\tremaining: 4.03s\n",
            "689:\tlearn: 0.3376237\ttotal: 8.95s\tremaining: 4.02s\n",
            "690:\tlearn: 0.3375739\ttotal: 8.96s\tremaining: 4.01s\n",
            "691:\tlearn: 0.3375671\ttotal: 8.97s\tremaining: 3.99s\n",
            "692:\tlearn: 0.3374046\ttotal: 8.99s\tremaining: 3.98s\n",
            "693:\tlearn: 0.3373772\ttotal: 9s\tremaining: 3.97s\n",
            "694:\tlearn: 0.3372657\ttotal: 9.02s\tremaining: 3.96s\n",
            "695:\tlearn: 0.3371357\ttotal: 9.03s\tremaining: 3.94s\n",
            "696:\tlearn: 0.3370298\ttotal: 9.04s\tremaining: 3.93s\n",
            "697:\tlearn: 0.3368950\ttotal: 9.06s\tremaining: 3.92s\n",
            "698:\tlearn: 0.3368743\ttotal: 9.08s\tremaining: 3.91s\n",
            "699:\tlearn: 0.3366706\ttotal: 9.09s\tremaining: 3.9s\n",
            "700:\tlearn: 0.3365300\ttotal: 9.11s\tremaining: 3.88s\n",
            "701:\tlearn: 0.3364487\ttotal: 9.12s\tremaining: 3.87s\n",
            "702:\tlearn: 0.3363469\ttotal: 9.13s\tremaining: 3.86s\n",
            "703:\tlearn: 0.3362939\ttotal: 9.14s\tremaining: 3.85s\n",
            "704:\tlearn: 0.3362093\ttotal: 9.16s\tremaining: 3.83s\n",
            "705:\tlearn: 0.3361088\ttotal: 9.17s\tremaining: 3.82s\n",
            "706:\tlearn: 0.3360354\ttotal: 9.19s\tremaining: 3.81s\n",
            "707:\tlearn: 0.3359873\ttotal: 9.2s\tremaining: 3.79s\n",
            "708:\tlearn: 0.3358388\ttotal: 9.21s\tremaining: 3.78s\n",
            "709:\tlearn: 0.3356429\ttotal: 9.23s\tremaining: 3.77s\n",
            "710:\tlearn: 0.3355926\ttotal: 9.24s\tremaining: 3.76s\n",
            "711:\tlearn: 0.3354960\ttotal: 9.26s\tremaining: 3.74s\n",
            "712:\tlearn: 0.3353841\ttotal: 9.27s\tremaining: 3.73s\n",
            "713:\tlearn: 0.3352935\ttotal: 9.29s\tremaining: 3.72s\n",
            "714:\tlearn: 0.3352116\ttotal: 9.31s\tremaining: 3.71s\n",
            "715:\tlearn: 0.3351294\ttotal: 9.32s\tremaining: 3.7s\n",
            "716:\tlearn: 0.3349879\ttotal: 9.34s\tremaining: 3.69s\n",
            "717:\tlearn: 0.3348289\ttotal: 9.35s\tremaining: 3.67s\n",
            "718:\tlearn: 0.3347119\ttotal: 9.36s\tremaining: 3.66s\n",
            "719:\tlearn: 0.3346010\ttotal: 9.38s\tremaining: 3.65s\n",
            "720:\tlearn: 0.3345567\ttotal: 9.39s\tremaining: 3.63s\n",
            "721:\tlearn: 0.3344300\ttotal: 9.41s\tremaining: 3.62s\n",
            "722:\tlearn: 0.3343306\ttotal: 9.42s\tremaining: 3.61s\n",
            "723:\tlearn: 0.3342425\ttotal: 9.44s\tremaining: 3.6s\n",
            "724:\tlearn: 0.3341923\ttotal: 9.46s\tremaining: 3.59s\n",
            "725:\tlearn: 0.3340725\ttotal: 9.47s\tremaining: 3.58s\n",
            "726:\tlearn: 0.3340183\ttotal: 9.49s\tremaining: 3.56s\n",
            "727:\tlearn: 0.3339470\ttotal: 9.51s\tremaining: 3.55s\n",
            "728:\tlearn: 0.3339059\ttotal: 9.52s\tremaining: 3.54s\n",
            "729:\tlearn: 0.3337664\ttotal: 9.54s\tremaining: 3.53s\n",
            "730:\tlearn: 0.3337216\ttotal: 9.55s\tremaining: 3.51s\n",
            "731:\tlearn: 0.3336319\ttotal: 9.56s\tremaining: 3.5s\n",
            "732:\tlearn: 0.3334843\ttotal: 9.58s\tremaining: 3.49s\n",
            "733:\tlearn: 0.3333798\ttotal: 9.59s\tremaining: 3.48s\n",
            "734:\tlearn: 0.3333196\ttotal: 9.61s\tremaining: 3.46s\n",
            "735:\tlearn: 0.3332657\ttotal: 9.62s\tremaining: 3.45s\n",
            "736:\tlearn: 0.3331262\ttotal: 9.63s\tremaining: 3.44s\n",
            "737:\tlearn: 0.3331057\ttotal: 9.65s\tremaining: 3.42s\n",
            "738:\tlearn: 0.3329453\ttotal: 9.67s\tremaining: 3.41s\n",
            "739:\tlearn: 0.3329059\ttotal: 9.68s\tremaining: 3.4s\n",
            "740:\tlearn: 0.3327980\ttotal: 9.7s\tremaining: 3.39s\n",
            "741:\tlearn: 0.3327624\ttotal: 9.72s\tremaining: 3.38s\n",
            "742:\tlearn: 0.3327456\ttotal: 9.73s\tremaining: 3.37s\n",
            "743:\tlearn: 0.3326840\ttotal: 9.74s\tremaining: 3.35s\n",
            "744:\tlearn: 0.3326619\ttotal: 9.76s\tremaining: 3.34s\n",
            "745:\tlearn: 0.3325944\ttotal: 9.77s\tremaining: 3.33s\n",
            "746:\tlearn: 0.3325844\ttotal: 9.79s\tremaining: 3.31s\n",
            "747:\tlearn: 0.3324188\ttotal: 9.81s\tremaining: 3.3s\n",
            "748:\tlearn: 0.3323952\ttotal: 9.82s\tremaining: 3.29s\n",
            "749:\tlearn: 0.3323547\ttotal: 9.84s\tremaining: 3.28s\n",
            "750:\tlearn: 0.3321572\ttotal: 9.85s\tremaining: 3.27s\n",
            "751:\tlearn: 0.3320754\ttotal: 9.87s\tremaining: 3.25s\n",
            "752:\tlearn: 0.3319734\ttotal: 9.88s\tremaining: 3.24s\n",
            "753:\tlearn: 0.3318764\ttotal: 9.89s\tremaining: 3.23s\n",
            "754:\tlearn: 0.3318355\ttotal: 9.91s\tremaining: 3.22s\n",
            "755:\tlearn: 0.3317391\ttotal: 9.93s\tremaining: 3.2s\n",
            "756:\tlearn: 0.3316805\ttotal: 9.94s\tremaining: 3.19s\n",
            "757:\tlearn: 0.3316574\ttotal: 9.95s\tremaining: 3.18s\n",
            "758:\tlearn: 0.3315579\ttotal: 9.97s\tremaining: 3.16s\n",
            "759:\tlearn: 0.3314094\ttotal: 9.98s\tremaining: 3.15s\n",
            "760:\tlearn: 0.3313163\ttotal: 9.99s\tremaining: 3.14s\n",
            "761:\tlearn: 0.3312191\ttotal: 10s\tremaining: 3.13s\n",
            "762:\tlearn: 0.3311154\ttotal: 10s\tremaining: 3.11s\n",
            "763:\tlearn: 0.3310404\ttotal: 10s\tremaining: 3.1s\n",
            "764:\tlearn: 0.3309535\ttotal: 10.1s\tremaining: 3.09s\n",
            "765:\tlearn: 0.3308533\ttotal: 10.1s\tremaining: 3.07s\n",
            "766:\tlearn: 0.3307733\ttotal: 10.1s\tremaining: 3.06s\n",
            "767:\tlearn: 0.3306882\ttotal: 10.1s\tremaining: 3.05s\n",
            "768:\tlearn: 0.3306077\ttotal: 10.1s\tremaining: 3.04s\n",
            "769:\tlearn: 0.3305216\ttotal: 10.1s\tremaining: 3.02s\n",
            "770:\tlearn: 0.3305185\ttotal: 10.1s\tremaining: 3.01s\n",
            "771:\tlearn: 0.3305013\ttotal: 10.2s\tremaining: 3s\n",
            "772:\tlearn: 0.3304446\ttotal: 10.2s\tremaining: 2.99s\n",
            "773:\tlearn: 0.3303683\ttotal: 10.2s\tremaining: 2.97s\n",
            "774:\tlearn: 0.3303048\ttotal: 10.2s\tremaining: 2.96s\n",
            "775:\tlearn: 0.3303029\ttotal: 10.2s\tremaining: 2.95s\n",
            "776:\tlearn: 0.3302852\ttotal: 10.2s\tremaining: 2.93s\n",
            "777:\tlearn: 0.3301863\ttotal: 10.2s\tremaining: 2.92s\n",
            "778:\tlearn: 0.3301186\ttotal: 10.3s\tremaining: 2.91s\n",
            "779:\tlearn: 0.3300847\ttotal: 10.3s\tremaining: 2.9s\n",
            "780:\tlearn: 0.3299491\ttotal: 10.3s\tremaining: 2.88s\n",
            "781:\tlearn: 0.3299166\ttotal: 10.3s\tremaining: 2.87s\n",
            "782:\tlearn: 0.3297649\ttotal: 10.3s\tremaining: 2.86s\n",
            "783:\tlearn: 0.3297042\ttotal: 10.3s\tremaining: 2.84s\n",
            "784:\tlearn: 0.3296103\ttotal: 10.3s\tremaining: 2.83s\n",
            "785:\tlearn: 0.3295724\ttotal: 10.4s\tremaining: 2.82s\n",
            "786:\tlearn: 0.3294495\ttotal: 10.4s\tremaining: 2.81s\n",
            "787:\tlearn: 0.3293604\ttotal: 10.4s\tremaining: 2.79s\n",
            "788:\tlearn: 0.3293263\ttotal: 10.4s\tremaining: 2.78s\n",
            "789:\tlearn: 0.3291886\ttotal: 10.4s\tremaining: 2.77s\n",
            "790:\tlearn: 0.3291121\ttotal: 10.4s\tremaining: 2.75s\n",
            "791:\tlearn: 0.3290461\ttotal: 10.4s\tremaining: 2.74s\n",
            "792:\tlearn: 0.3289579\ttotal: 10.5s\tremaining: 2.73s\n",
            "793:\tlearn: 0.3289338\ttotal: 10.5s\tremaining: 2.72s\n",
            "794:\tlearn: 0.3289096\ttotal: 10.5s\tremaining: 2.7s\n",
            "795:\tlearn: 0.3289044\ttotal: 10.5s\tremaining: 2.69s\n",
            "796:\tlearn: 0.3287954\ttotal: 10.5s\tremaining: 2.68s\n",
            "797:\tlearn: 0.3287201\ttotal: 10.5s\tremaining: 2.66s\n",
            "798:\tlearn: 0.3286351\ttotal: 10.5s\tremaining: 2.65s\n",
            "799:\tlearn: 0.3285536\ttotal: 10.6s\tremaining: 2.64s\n",
            "800:\tlearn: 0.3284479\ttotal: 10.6s\tremaining: 2.63s\n",
            "801:\tlearn: 0.3284387\ttotal: 10.6s\tremaining: 2.61s\n",
            "802:\tlearn: 0.3284198\ttotal: 10.6s\tremaining: 2.6s\n",
            "803:\tlearn: 0.3283490\ttotal: 10.6s\tremaining: 2.59s\n",
            "804:\tlearn: 0.3283470\ttotal: 10.6s\tremaining: 2.58s\n",
            "805:\tlearn: 0.3282826\ttotal: 10.6s\tremaining: 2.56s\n",
            "806:\tlearn: 0.3282516\ttotal: 10.7s\tremaining: 2.55s\n",
            "807:\tlearn: 0.3281609\ttotal: 10.7s\tremaining: 2.54s\n",
            "808:\tlearn: 0.3280951\ttotal: 10.7s\tremaining: 2.52s\n",
            "809:\tlearn: 0.3280267\ttotal: 10.7s\tremaining: 2.51s\n",
            "810:\tlearn: 0.3279490\ttotal: 10.7s\tremaining: 2.5s\n",
            "811:\tlearn: 0.3278864\ttotal: 10.7s\tremaining: 2.48s\n",
            "812:\tlearn: 0.3278488\ttotal: 10.7s\tremaining: 2.47s\n",
            "813:\tlearn: 0.3278367\ttotal: 10.8s\tremaining: 2.46s\n",
            "814:\tlearn: 0.3277747\ttotal: 10.8s\tremaining: 2.44s\n",
            "815:\tlearn: 0.3277034\ttotal: 10.8s\tremaining: 2.43s\n",
            "816:\tlearn: 0.3276254\ttotal: 10.8s\tremaining: 2.42s\n",
            "817:\tlearn: 0.3275626\ttotal: 10.8s\tremaining: 2.4s\n",
            "818:\tlearn: 0.3275162\ttotal: 10.8s\tremaining: 2.39s\n",
            "819:\tlearn: 0.3274321\ttotal: 10.8s\tremaining: 2.38s\n",
            "820:\tlearn: 0.3273297\ttotal: 10.9s\tremaining: 2.37s\n",
            "821:\tlearn: 0.3272288\ttotal: 10.9s\tremaining: 2.35s\n",
            "822:\tlearn: 0.3271414\ttotal: 10.9s\tremaining: 2.34s\n",
            "823:\tlearn: 0.3270555\ttotal: 10.9s\tremaining: 2.33s\n",
            "824:\tlearn: 0.3269344\ttotal: 10.9s\tremaining: 2.31s\n",
            "825:\tlearn: 0.3267888\ttotal: 10.9s\tremaining: 2.3s\n",
            "826:\tlearn: 0.3267566\ttotal: 10.9s\tremaining: 2.29s\n",
            "827:\tlearn: 0.3267245\ttotal: 10.9s\tremaining: 2.27s\n",
            "828:\tlearn: 0.3264680\ttotal: 11s\tremaining: 2.26s\n",
            "829:\tlearn: 0.3263352\ttotal: 11s\tremaining: 2.25s\n",
            "830:\tlearn: 0.3262118\ttotal: 11s\tremaining: 2.23s\n",
            "831:\tlearn: 0.3261863\ttotal: 11s\tremaining: 2.22s\n",
            "832:\tlearn: 0.3261414\ttotal: 11s\tremaining: 2.21s\n",
            "833:\tlearn: 0.3260814\ttotal: 11s\tremaining: 2.19s\n",
            "834:\tlearn: 0.3260337\ttotal: 11s\tremaining: 2.18s\n",
            "835:\tlearn: 0.3259300\ttotal: 11.1s\tremaining: 2.17s\n",
            "836:\tlearn: 0.3258507\ttotal: 11.1s\tremaining: 2.16s\n",
            "837:\tlearn: 0.3257711\ttotal: 11.1s\tremaining: 2.14s\n",
            "838:\tlearn: 0.3257329\ttotal: 11.1s\tremaining: 2.13s\n",
            "839:\tlearn: 0.3256526\ttotal: 11.1s\tremaining: 2.12s\n",
            "840:\tlearn: 0.3255744\ttotal: 11.1s\tremaining: 2.1s\n",
            "841:\tlearn: 0.3254845\ttotal: 11.1s\tremaining: 2.09s\n",
            "842:\tlearn: 0.3253269\ttotal: 11.2s\tremaining: 2.08s\n",
            "843:\tlearn: 0.3252172\ttotal: 11.2s\tremaining: 2.06s\n",
            "844:\tlearn: 0.3252067\ttotal: 11.2s\tremaining: 2.05s\n",
            "845:\tlearn: 0.3251341\ttotal: 11.2s\tremaining: 2.04s\n",
            "846:\tlearn: 0.3249990\ttotal: 11.2s\tremaining: 2.03s\n",
            "847:\tlearn: 0.3249966\ttotal: 11.2s\tremaining: 2.02s\n",
            "848:\tlearn: 0.3249232\ttotal: 11.3s\tremaining: 2s\n",
            "849:\tlearn: 0.3248678\ttotal: 11.3s\tremaining: 1.99s\n",
            "850:\tlearn: 0.3247701\ttotal: 11.3s\tremaining: 1.98s\n",
            "851:\tlearn: 0.3246437\ttotal: 11.3s\tremaining: 1.96s\n",
            "852:\tlearn: 0.3245933\ttotal: 11.3s\tremaining: 1.95s\n",
            "853:\tlearn: 0.3244711\ttotal: 11.3s\tremaining: 1.94s\n",
            "854:\tlearn: 0.3243701\ttotal: 11.3s\tremaining: 1.92s\n",
            "855:\tlearn: 0.3243190\ttotal: 11.4s\tremaining: 1.91s\n",
            "856:\tlearn: 0.3242313\ttotal: 11.4s\tremaining: 1.9s\n",
            "857:\tlearn: 0.3241294\ttotal: 11.4s\tremaining: 1.88s\n",
            "858:\tlearn: 0.3240474\ttotal: 11.4s\tremaining: 1.87s\n",
            "859:\tlearn: 0.3240182\ttotal: 11.4s\tremaining: 1.86s\n",
            "860:\tlearn: 0.3239563\ttotal: 11.4s\tremaining: 1.85s\n",
            "861:\tlearn: 0.3237832\ttotal: 11.5s\tremaining: 1.83s\n",
            "862:\tlearn: 0.3236890\ttotal: 11.5s\tremaining: 1.82s\n",
            "863:\tlearn: 0.3235229\ttotal: 11.5s\tremaining: 1.81s\n",
            "864:\tlearn: 0.3234842\ttotal: 11.5s\tremaining: 1.79s\n",
            "865:\tlearn: 0.3234587\ttotal: 11.5s\tremaining: 1.78s\n",
            "866:\tlearn: 0.3233504\ttotal: 11.5s\tremaining: 1.77s\n",
            "867:\tlearn: 0.3232464\ttotal: 11.5s\tremaining: 1.75s\n",
            "868:\tlearn: 0.3231568\ttotal: 11.6s\tremaining: 1.74s\n",
            "869:\tlearn: 0.3231184\ttotal: 11.6s\tremaining: 1.73s\n",
            "870:\tlearn: 0.3230433\ttotal: 11.6s\tremaining: 1.72s\n",
            "871:\tlearn: 0.3230429\ttotal: 11.6s\tremaining: 1.7s\n",
            "872:\tlearn: 0.3229468\ttotal: 11.6s\tremaining: 1.69s\n",
            "873:\tlearn: 0.3228676\ttotal: 11.6s\tremaining: 1.68s\n",
            "874:\tlearn: 0.3227082\ttotal: 11.6s\tremaining: 1.66s\n",
            "875:\tlearn: 0.3226577\ttotal: 11.6s\tremaining: 1.65s\n",
            "876:\tlearn: 0.3226110\ttotal: 11.7s\tremaining: 1.64s\n",
            "877:\tlearn: 0.3224750\ttotal: 11.7s\tremaining: 1.62s\n",
            "878:\tlearn: 0.3224271\ttotal: 11.7s\tremaining: 1.61s\n",
            "879:\tlearn: 0.3223529\ttotal: 11.7s\tremaining: 1.6s\n",
            "880:\tlearn: 0.3223097\ttotal: 11.7s\tremaining: 1.58s\n",
            "881:\tlearn: 0.3220659\ttotal: 11.7s\tremaining: 1.57s\n",
            "882:\tlearn: 0.3219026\ttotal: 11.7s\tremaining: 1.56s\n",
            "883:\tlearn: 0.3217772\ttotal: 11.8s\tremaining: 1.54s\n",
            "884:\tlearn: 0.3216856\ttotal: 11.8s\tremaining: 1.53s\n",
            "885:\tlearn: 0.3215448\ttotal: 11.8s\tremaining: 1.52s\n",
            "886:\tlearn: 0.3215374\ttotal: 11.8s\tremaining: 1.5s\n",
            "887:\tlearn: 0.3215058\ttotal: 11.8s\tremaining: 1.49s\n",
            "888:\tlearn: 0.3214686\ttotal: 11.8s\tremaining: 1.48s\n",
            "889:\tlearn: 0.3213537\ttotal: 11.8s\tremaining: 1.46s\n",
            "890:\tlearn: 0.3212650\ttotal: 11.9s\tremaining: 1.45s\n",
            "891:\tlearn: 0.3210461\ttotal: 11.9s\tremaining: 1.44s\n",
            "892:\tlearn: 0.3210066\ttotal: 11.9s\tremaining: 1.42s\n",
            "893:\tlearn: 0.3209075\ttotal: 11.9s\tremaining: 1.41s\n",
            "894:\tlearn: 0.3207231\ttotal: 11.9s\tremaining: 1.4s\n",
            "895:\tlearn: 0.3206294\ttotal: 11.9s\tremaining: 1.38s\n",
            "896:\tlearn: 0.3205538\ttotal: 11.9s\tremaining: 1.37s\n",
            "897:\tlearn: 0.3204143\ttotal: 12s\tremaining: 1.36s\n",
            "898:\tlearn: 0.3203622\ttotal: 12s\tremaining: 1.34s\n",
            "899:\tlearn: 0.3202982\ttotal: 12s\tremaining: 1.33s\n",
            "900:\tlearn: 0.3202143\ttotal: 12s\tremaining: 1.32s\n",
            "901:\tlearn: 0.3201895\ttotal: 12s\tremaining: 1.3s\n",
            "902:\tlearn: 0.3201602\ttotal: 12s\tremaining: 1.29s\n",
            "903:\tlearn: 0.3200507\ttotal: 12.1s\tremaining: 1.28s\n",
            "904:\tlearn: 0.3199722\ttotal: 12.1s\tremaining: 1.27s\n",
            "905:\tlearn: 0.3198941\ttotal: 12.1s\tremaining: 1.25s\n",
            "906:\tlearn: 0.3198399\ttotal: 12.1s\tremaining: 1.24s\n",
            "907:\tlearn: 0.3197988\ttotal: 12.1s\tremaining: 1.23s\n",
            "908:\tlearn: 0.3197592\ttotal: 12.1s\tremaining: 1.21s\n",
            "909:\tlearn: 0.3197527\ttotal: 12.1s\tremaining: 1.2s\n",
            "910:\tlearn: 0.3196957\ttotal: 12.1s\tremaining: 1.19s\n",
            "911:\tlearn: 0.3196566\ttotal: 12.2s\tremaining: 1.17s\n",
            "912:\tlearn: 0.3195490\ttotal: 12.2s\tremaining: 1.16s\n",
            "913:\tlearn: 0.3195408\ttotal: 12.2s\tremaining: 1.15s\n",
            "914:\tlearn: 0.3194794\ttotal: 12.2s\tremaining: 1.13s\n",
            "915:\tlearn: 0.3194447\ttotal: 12.2s\tremaining: 1.12s\n",
            "916:\tlearn: 0.3193060\ttotal: 12.2s\tremaining: 1.11s\n",
            "917:\tlearn: 0.3191817\ttotal: 12.2s\tremaining: 1.09s\n",
            "918:\tlearn: 0.3191574\ttotal: 12.3s\tremaining: 1.08s\n",
            "919:\tlearn: 0.3191163\ttotal: 12.3s\tremaining: 1.07s\n",
            "920:\tlearn: 0.3190120\ttotal: 12.3s\tremaining: 1.05s\n",
            "921:\tlearn: 0.3189327\ttotal: 12.3s\tremaining: 1.04s\n",
            "922:\tlearn: 0.3188543\ttotal: 12.3s\tremaining: 1.03s\n",
            "923:\tlearn: 0.3187835\ttotal: 12.3s\tremaining: 1.01s\n",
            "924:\tlearn: 0.3186309\ttotal: 12.3s\tremaining: 1s\n",
            "925:\tlearn: 0.3185746\ttotal: 12.4s\tremaining: 988ms\n",
            "926:\tlearn: 0.3184167\ttotal: 12.4s\tremaining: 975ms\n",
            "927:\tlearn: 0.3183393\ttotal: 12.4s\tremaining: 961ms\n",
            "928:\tlearn: 0.3183065\ttotal: 12.4s\tremaining: 948ms\n",
            "929:\tlearn: 0.3182578\ttotal: 12.4s\tremaining: 934ms\n",
            "930:\tlearn: 0.3181938\ttotal: 12.4s\tremaining: 922ms\n",
            "931:\tlearn: 0.3181749\ttotal: 12.5s\tremaining: 909ms\n",
            "932:\tlearn: 0.3181355\ttotal: 12.5s\tremaining: 895ms\n",
            "933:\tlearn: 0.3180812\ttotal: 12.5s\tremaining: 882ms\n",
            "934:\tlearn: 0.3179905\ttotal: 12.5s\tremaining: 869ms\n",
            "935:\tlearn: 0.3178752\ttotal: 12.5s\tremaining: 855ms\n",
            "936:\tlearn: 0.3178342\ttotal: 12.5s\tremaining: 842ms\n",
            "937:\tlearn: 0.3176632\ttotal: 12.5s\tremaining: 829ms\n",
            "938:\tlearn: 0.3175814\ttotal: 12.6s\tremaining: 816ms\n",
            "939:\tlearn: 0.3175690\ttotal: 12.6s\tremaining: 802ms\n",
            "940:\tlearn: 0.3174841\ttotal: 12.6s\tremaining: 789ms\n",
            "941:\tlearn: 0.3174501\ttotal: 12.6s\tremaining: 776ms\n",
            "942:\tlearn: 0.3173389\ttotal: 12.6s\tremaining: 762ms\n",
            "943:\tlearn: 0.3173110\ttotal: 12.6s\tremaining: 749ms\n",
            "944:\tlearn: 0.3172671\ttotal: 12.6s\tremaining: 736ms\n",
            "945:\tlearn: 0.3172157\ttotal: 12.7s\tremaining: 722ms\n",
            "946:\tlearn: 0.3171770\ttotal: 12.7s\tremaining: 709ms\n",
            "947:\tlearn: 0.3171100\ttotal: 12.7s\tremaining: 696ms\n",
            "948:\tlearn: 0.3170329\ttotal: 12.7s\tremaining: 682ms\n",
            "949:\tlearn: 0.3169951\ttotal: 12.7s\tremaining: 669ms\n",
            "950:\tlearn: 0.3169080\ttotal: 12.7s\tremaining: 656ms\n",
            "951:\tlearn: 0.3168068\ttotal: 12.7s\tremaining: 642ms\n",
            "952:\tlearn: 0.3166107\ttotal: 12.8s\tremaining: 629ms\n",
            "953:\tlearn: 0.3165433\ttotal: 12.8s\tremaining: 616ms\n",
            "954:\tlearn: 0.3165118\ttotal: 12.8s\tremaining: 602ms\n",
            "955:\tlearn: 0.3164935\ttotal: 12.8s\tremaining: 589ms\n",
            "956:\tlearn: 0.3164112\ttotal: 12.8s\tremaining: 576ms\n",
            "957:\tlearn: 0.3162988\ttotal: 12.8s\tremaining: 562ms\n",
            "958:\tlearn: 0.3161316\ttotal: 12.8s\tremaining: 549ms\n",
            "959:\tlearn: 0.3160711\ttotal: 12.9s\tremaining: 536ms\n",
            "960:\tlearn: 0.3159110\ttotal: 12.9s\tremaining: 523ms\n",
            "961:\tlearn: 0.3158209\ttotal: 12.9s\tremaining: 509ms\n",
            "962:\tlearn: 0.3157382\ttotal: 12.9s\tremaining: 496ms\n",
            "963:\tlearn: 0.3156139\ttotal: 12.9s\tremaining: 482ms\n",
            "964:\tlearn: 0.3155094\ttotal: 12.9s\tremaining: 469ms\n",
            "965:\tlearn: 0.3154196\ttotal: 12.9s\tremaining: 456ms\n",
            "966:\tlearn: 0.3153556\ttotal: 13s\tremaining: 442ms\n",
            "967:\tlearn: 0.3152938\ttotal: 13s\tremaining: 429ms\n",
            "968:\tlearn: 0.3151873\ttotal: 13s\tremaining: 415ms\n",
            "969:\tlearn: 0.3151395\ttotal: 13s\tremaining: 402ms\n",
            "970:\tlearn: 0.3151047\ttotal: 13s\tremaining: 389ms\n",
            "971:\tlearn: 0.3150642\ttotal: 13s\tremaining: 375ms\n",
            "972:\tlearn: 0.3150124\ttotal: 13.1s\tremaining: 362ms\n",
            "973:\tlearn: 0.3149534\ttotal: 13.1s\tremaining: 349ms\n",
            "974:\tlearn: 0.3149495\ttotal: 13.1s\tremaining: 335ms\n",
            "975:\tlearn: 0.3148816\ttotal: 13.1s\tremaining: 322ms\n",
            "976:\tlearn: 0.3147809\ttotal: 13.1s\tremaining: 308ms\n",
            "977:\tlearn: 0.3147407\ttotal: 13.1s\tremaining: 295ms\n",
            "978:\tlearn: 0.3146813\ttotal: 13.1s\tremaining: 282ms\n",
            "979:\tlearn: 0.3146092\ttotal: 13.1s\tremaining: 268ms\n",
            "980:\tlearn: 0.3145234\ttotal: 13.2s\tremaining: 255ms\n",
            "981:\tlearn: 0.3144237\ttotal: 13.2s\tremaining: 241ms\n",
            "982:\tlearn: 0.3143525\ttotal: 13.2s\tremaining: 228ms\n",
            "983:\tlearn: 0.3142396\ttotal: 13.2s\tremaining: 215ms\n",
            "984:\tlearn: 0.3141644\ttotal: 13.2s\tremaining: 201ms\n",
            "985:\tlearn: 0.3140697\ttotal: 13.2s\tremaining: 188ms\n",
            "986:\tlearn: 0.3139880\ttotal: 13.2s\tremaining: 174ms\n",
            "987:\tlearn: 0.3139037\ttotal: 13.3s\tremaining: 161ms\n",
            "988:\tlearn: 0.3138241\ttotal: 13.3s\tremaining: 148ms\n",
            "989:\tlearn: 0.3137395\ttotal: 13.3s\tremaining: 134ms\n",
            "990:\tlearn: 0.3137221\ttotal: 13.3s\tremaining: 121ms\n",
            "991:\tlearn: 0.3136837\ttotal: 13.3s\tremaining: 107ms\n",
            "992:\tlearn: 0.3135971\ttotal: 13.3s\tremaining: 94ms\n",
            "993:\tlearn: 0.3134480\ttotal: 13.3s\tremaining: 80.6ms\n",
            "994:\tlearn: 0.3132608\ttotal: 13.4s\tremaining: 67.2ms\n",
            "995:\tlearn: 0.3131919\ttotal: 13.4s\tremaining: 53.7ms\n",
            "996:\tlearn: 0.3131860\ttotal: 13.4s\tremaining: 40.3ms\n",
            "997:\tlearn: 0.3130678\ttotal: 13.4s\tremaining: 26.9ms\n",
            "998:\tlearn: 0.3130572\ttotal: 13.4s\tremaining: 13.4ms\n",
            "999:\tlearn: 0.3129858\ttotal: 13.4s\tremaining: 0us\n"
          ]
        },
        {
          "output_type": "execute_result",
          "data": {
            "text/plain": [
              "<catboost.core.CatBoostClassifier at 0x7fdcf8d47750>"
            ]
          },
          "metadata": {},
          "execution_count": 26
        }
      ]
    },
    {
      "cell_type": "code",
      "metadata": {
        "colab": {
          "base_uri": "https://localhost:8080/"
        },
        "id": "_hHWNbN9BWr1",
        "outputId": "268d82e5-38c4-4fba-bdf2-b8cecf370795"
      },
      "source": [
        "y_train_predicted = clf.predict(X_train)\n",
        "y_test_predicted = clf.predict(X_test)\n",
        "\n",
        "roc_auc_score(y_train, y_train_predicted), roc_auc_score(y_test, y_test_predicted)"
      ],
      "execution_count": 27,
      "outputs": [
        {
          "output_type": "execute_result",
          "data": {
            "text/plain": [
              "(0.7659648296881912, 0.6750168542957675)"
            ]
          },
          "metadata": {},
          "execution_count": 27
        }
      ]
    },
    {
      "cell_type": "code",
      "metadata": {
        "id": "sgBmkyXdGte-"
      },
      "source": [
        "# попробуем разные параметры"
      ],
      "execution_count": 34,
      "outputs": []
    },
    {
      "cell_type": "code",
      "metadata": {
        "id": "gn98SQsgqjf5"
      },
      "source": [
        "from catboost import cv, Pool"
      ],
      "execution_count": 36,
      "outputs": []
    },
    {
      "cell_type": "code",
      "metadata": {
        "id": "H0ZT8KTOuX67"
      },
      "source": [
        ""
      ],
      "execution_count": 38,
      "outputs": []
    },
    {
      "cell_type": "markdown",
      "metadata": {
        "id": "rf4Kjt96EEZU"
      },
      "source": [
        "Выпишите какое лучшее качество и с какими параметрами вам удалось получить"
      ]
    },
    {
      "cell_type": "markdown",
      "metadata": {
        "id": "d2d9GolXEEZV"
      },
      "source": [
        ""
      ]
    },
    {
      "cell_type": "markdown",
      "metadata": {
        "id": "dDMXbvNZEEZV"
      },
      "source": [
        "# Предсказания"
      ]
    },
    {
      "cell_type": "code",
      "metadata": {
        "id": "G_P4wFNaEEZW"
      },
      "source": [
        "best_model = # какая-то предыдущая модель"
      ],
      "execution_count": null,
      "outputs": []
    },
    {
      "cell_type": "code",
      "metadata": {
        "id": "FfSufx0CEEZZ"
      },
      "source": [
        "X_test = pd.read_csv('./test.csv')\n",
        "submission = pd.read_csv('./submission.csv')\n",
        "\n",
        "submission['Churn'] = # best_model.predict_proba(X_test) / best_model.predict(X_test)\n",
        "submission.to_csv('./my_submission.csv')"
      ],
      "execution_count": null,
      "outputs": []
    },
    {
      "cell_type": "markdown",
      "metadata": {
        "id": "mkxjbGkVEEZc"
      },
      "source": [
        "# Kaggle (5 баллов)\n",
        "\n",
        "Как выставить баллы:\n",
        "\n",
        "1) 1 >= roc auc > 0.84 это 5 баллов\n",
        "\n",
        "2) 0.84 >= roc auc > 0.7 это 3 балла\n",
        "\n",
        "3) 0.7 >= roc auc > 0.6 это 1 балл\n",
        "\n",
        "4) 0.6 >= roc auc это 0 баллов\n",
        "\n",
        "\n",
        "Для выполнения задания необходимо выполнить следующие шаги.\n",
        "* Зарегистрироваться на платформе [kaggle.com](kaggle.com). Процесс выставления оценок будет проходить при подведении итогового рейтинга. Пожалуйста, укажите во вкладке Team -> Team name свои имя и фамилию в формате Имя_Фамилия (важно, чтобы имя и фамилия совпадали с данными на Stepik).\n",
        "* Обучить модель, получить файл с ответами в формате .csv и сдать его в конкурс. Пробуйте и экспериментируйте. Обратите внимание, что вы можете выполнять до 20 попыток сдачи на kaggle в день.\n",
        "* После окончания соревнования отправить в итоговый ноутбук с решением на степик. \n",
        "* После дедлайна проверьте посылки других участников по критериям. Для этого надо зайти на степик, скачать их ноутбук и проверить скор в соревновании."
      ]
    },
    {
      "cell_type": "code",
      "metadata": {
        "id": "opa2Rb2ZomTy"
      },
      "source": [
        ""
      ],
      "execution_count": null,
      "outputs": []
    }
  ]
}